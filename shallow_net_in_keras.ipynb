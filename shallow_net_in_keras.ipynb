{
 "cells": [
  {
   "cell_type": "markdown",
   "metadata": {},
   "source": [
    "# Shallow Neural Network in Keras"
   ]
  },
  {
   "cell_type": "markdown",
   "metadata": {},
   "source": [
    "Build a shallow neural network to classify MNIST digits"
   ]
  },
  {
   "cell_type": "markdown",
   "metadata": {},
   "source": [
    "#### Set seed for reproducibility"
   ]
  },
  {
   "cell_type": "code",
   "execution_count": 194,
   "metadata": {},
   "outputs": [
    {
     "data": {
      "text/plain": [
       "'C:\\\\Anaconda3\\\\envs\\\\tensorflow\\\\python.exe'"
      ]
     },
     "execution_count": 194,
     "metadata": {},
     "output_type": "execute_result"
    }
   ],
   "source": [
    "import sys\n",
    "sys.executable"
   ]
  },
  {
   "cell_type": "code",
   "execution_count": 2,
   "metadata": {
    "collapsed": true
   },
   "outputs": [],
   "source": [
    "import numpy as np\n",
    "np.random.seed(42)"
   ]
  },
  {
   "cell_type": "markdown",
   "metadata": {},
   "source": [
    "#### Load dependencies"
   ]
  },
  {
   "cell_type": "code",
   "execution_count": 3,
   "metadata": {},
   "outputs": [
    {
     "name": "stderr",
     "output_type": "stream",
     "text": [
      "C:\\Anaconda3\\envs\\tensorflow\\lib\\site-packages\\h5py\\__init__.py:36: FutureWarning: Conversion of the second argument of issubdtype from `float` to `np.floating` is deprecated. In future, it will be treated as `np.float64 == np.dtype(float).type`.\n",
      "  from ._conv import register_converters as _register_converters\n",
      "Using TensorFlow backend.\n"
     ]
    }
   ],
   "source": [
    "import keras\n",
    "from keras.datasets import mnist\n",
    "from keras.models import Sequential\n",
    "from keras.layers import Dense\n",
    "from keras.optimizers import SGD"
   ]
  },
  {
   "cell_type": "markdown",
   "metadata": {},
   "source": [
    "#### Load data"
   ]
  },
  {
   "cell_type": "code",
   "execution_count": 162,
   "metadata": {
    "collapsed": true
   },
   "outputs": [],
   "source": [
    "(X_train, y_train), (X_test, y_test) = mnist.load_data()"
   ]
  },
  {
   "cell_type": "code",
   "execution_count": 5,
   "metadata": {},
   "outputs": [
    {
     "data": {
      "text/plain": [
       "(60000, 28, 28)"
      ]
     },
     "execution_count": 5,
     "metadata": {},
     "output_type": "execute_result"
    }
   ],
   "source": [
    "X_train.shape"
   ]
  },
  {
   "cell_type": "code",
   "execution_count": 6,
   "metadata": {},
   "outputs": [
    {
     "data": {
      "text/plain": [
       "(60000,)"
      ]
     },
     "execution_count": 6,
     "metadata": {},
     "output_type": "execute_result"
    }
   ],
   "source": [
    "y_train.shape"
   ]
  },
  {
   "cell_type": "code",
   "execution_count": 7,
   "metadata": {},
   "outputs": [
    {
     "data": {
      "text/plain": [
       "array([5, 0, 4, 1, 9, 2, 1, 3, 1, 4, 3, 5, 3, 6, 1, 7, 2, 8, 6, 9, 4, 0,\n",
       "       9, 1, 1, 2, 4, 3, 2, 7, 3, 8, 6, 9, 0, 5, 6, 0, 7, 6, 1, 8, 7, 9,\n",
       "       3, 9, 8, 5, 9, 3, 3, 0, 7, 4, 9, 8, 0, 9, 4, 1, 4, 4, 6, 0, 4, 5,\n",
       "       6, 1, 0, 0, 1, 7, 1, 6, 3, 0, 2, 1, 1, 7, 9, 0, 2, 6, 7, 8, 3, 9,\n",
       "       0, 4, 6, 7, 4, 6, 8, 0, 7, 8, 3], dtype=uint8)"
      ]
     },
     "execution_count": 7,
     "metadata": {},
     "output_type": "execute_result"
    }
   ],
   "source": [
    "y_train[0:99]"
   ]
  },
  {
   "cell_type": "code",
   "execution_count": 8,
   "metadata": {},
   "outputs": [
    {
     "data": {
      "text/plain": [
       "(10000, 28, 28)"
      ]
     },
     "execution_count": 8,
     "metadata": {},
     "output_type": "execute_result"
    }
   ],
   "source": [
    "X_test.shape"
   ]
  },
  {
   "cell_type": "code",
   "execution_count": 210,
   "metadata": {},
   "outputs": [
    {
     "data": {
      "text/plain": [
       "(28, 28)"
      ]
     },
     "execution_count": 210,
     "metadata": {},
     "output_type": "execute_result"
    }
   ],
   "source": [
    "X_test[1].shape"
   ]
  },
  {
   "cell_type": "code",
   "execution_count": 211,
   "metadata": {},
   "outputs": [
    {
     "data": {
      "text/plain": [
       "array([[  0,   0,   0,   0,   0,   0,   0,   0,   0,   0,   0,   0,   0,\n",
       "          0,   0,   0,   0,   0,   0,   0,   0,   0,   0,   0,   0,   0,\n",
       "          0,   0],\n",
       "       [  0,   0,   0,   0,   0,   0,   0,   0,   0,   0,   0,   0,   0,\n",
       "          0,   0,   0,   0,   0,   0,   0,   0,   0,   0,   0,   0,   0,\n",
       "          0,   0],\n",
       "       [  0,   0,   0,   0,   0,   0,   0,   0,   0,   0,   0,   0,   0,\n",
       "          0,   0,   0,   0,   0,   0,   0,   0,   0,   0,   0,   0,   0,\n",
       "          0,   0],\n",
       "       [  0,   0,   0,   0,   0,   0,   0,   0,   0,   0, 116, 125, 171,\n",
       "        255, 255, 150,  93,   0,   0,   0,   0,   0,   0,   0,   0,   0,\n",
       "          0,   0],\n",
       "       [  0,   0,   0,   0,   0,   0,   0,   0,   0, 169, 253, 253, 253,\n",
       "        253, 253, 253, 218,  30,   0,   0,   0,   0,   0,   0,   0,   0,\n",
       "          0,   0],\n",
       "       [  0,   0,   0,   0,   0,   0,   0,   0, 169, 253, 253, 253, 213,\n",
       "        142, 176, 253, 253, 122,   0,   0,   0,   0,   0,   0,   0,   0,\n",
       "          0,   0],\n",
       "       [  0,   0,   0,   0,   0,   0,   0,  52, 250, 253, 210,  32,  12,\n",
       "          0,   6, 206, 253, 140,   0,   0,   0,   0,   0,   0,   0,   0,\n",
       "          0,   0],\n",
       "       [  0,   0,   0,   0,   0,   0,   0,  77, 251, 210,  25,   0,   0,\n",
       "          0, 122, 248, 253,  65,   0,   0,   0,   0,   0,   0,   0,   0,\n",
       "          0,   0],\n",
       "       [  0,   0,   0,   0,   0,   0,   0,   0,  31,  18,   0,   0,   0,\n",
       "          0, 209, 253, 253,  65,   0,   0,   0,   0,   0,   0,   0,   0,\n",
       "          0,   0],\n",
       "       [  0,   0,   0,   0,   0,   0,   0,   0,   0,   0,   0,   0,   0,\n",
       "        117, 247, 253, 198,  10,   0,   0,   0,   0,   0,   0,   0,   0,\n",
       "          0,   0],\n",
       "       [  0,   0,   0,   0,   0,   0,   0,   0,   0,   0,   0,   0,  76,\n",
       "        247, 253, 231,  63,   0,   0,   0,   0,   0,   0,   0,   0,   0,\n",
       "          0,   0],\n",
       "       [  0,   0,   0,   0,   0,   0,   0,   0,   0,   0,   0,   0, 128,\n",
       "        253, 253, 144,   0,   0,   0,   0,   0,   0,   0,   0,   0,   0,\n",
       "          0,   0],\n",
       "       [  0,   0,   0,   0,   0,   0,   0,   0,   0,   0,   0, 176, 246,\n",
       "        253, 159,  12,   0,   0,   0,   0,   0,   0,   0,   0,   0,   0,\n",
       "          0,   0],\n",
       "       [  0,   0,   0,   0,   0,   0,   0,   0,   0,   0,  25, 234, 253,\n",
       "        233,  35,   0,   0,   0,   0,   0,   0,   0,   0,   0,   0,   0,\n",
       "          0,   0],\n",
       "       [  0,   0,   0,   0,   0,   0,   0,   0,   0,   0, 198, 253, 253,\n",
       "        141,   0,   0,   0,   0,   0,   0,   0,   0,   0,   0,   0,   0,\n",
       "          0,   0],\n",
       "       [  0,   0,   0,   0,   0,   0,   0,   0,   0,  78, 248, 253, 189,\n",
       "         12,   0,   0,   0,   0,   0,   0,   0,   0,   0,   0,   0,   0,\n",
       "          0,   0],\n",
       "       [  0,   0,   0,   0,   0,   0,   0,   0,  19, 200, 253, 253, 141,\n",
       "          0,   0,   0,   0,   0,   0,   0,   0,   0,   0,   0,   0,   0,\n",
       "          0,   0],\n",
       "       [  0,   0,   0,   0,   0,   0,   0,   0, 134, 253, 253, 173,  12,\n",
       "          0,   0,   0,   0,   0,   0,   0,   0,   0,   0,   0,   0,   0,\n",
       "          0,   0],\n",
       "       [  0,   0,   0,   0,   0,   0,   0,   0, 248, 253, 253,  25,   0,\n",
       "          0,   0,   0,   0,   0,   0,   0,   0,   0,   0,   0,   0,   0,\n",
       "          0,   0],\n",
       "       [  0,   0,   0,   0,   0,   0,   0,   0, 248, 253, 253,  43,  20,\n",
       "         20,  20,  20,   5,   0,   5,  20,  20,  37, 150, 150, 150, 147,\n",
       "         10,   0],\n",
       "       [  0,   0,   0,   0,   0,   0,   0,   0, 248, 253, 253, 253, 253,\n",
       "        253, 253, 253, 168, 143, 166, 253, 253, 253, 253, 253, 253, 253,\n",
       "        123,   0],\n",
       "       [  0,   0,   0,   0,   0,   0,   0,   0, 174, 253, 253, 253, 253,\n",
       "        253, 253, 253, 253, 253, 253, 253, 249, 247, 247, 169, 117, 117,\n",
       "         57,   0],\n",
       "       [  0,   0,   0,   0,   0,   0,   0,   0,   0, 118, 123, 123, 123,\n",
       "        166, 253, 253, 253, 155, 123, 123,  41,   0,   0,   0,   0,   0,\n",
       "          0,   0],\n",
       "       [  0,   0,   0,   0,   0,   0,   0,   0,   0,   0,   0,   0,   0,\n",
       "          0,   0,   0,   0,   0,   0,   0,   0,   0,   0,   0,   0,   0,\n",
       "          0,   0],\n",
       "       [  0,   0,   0,   0,   0,   0,   0,   0,   0,   0,   0,   0,   0,\n",
       "          0,   0,   0,   0,   0,   0,   0,   0,   0,   0,   0,   0,   0,\n",
       "          0,   0],\n",
       "       [  0,   0,   0,   0,   0,   0,   0,   0,   0,   0,   0,   0,   0,\n",
       "          0,   0,   0,   0,   0,   0,   0,   0,   0,   0,   0,   0,   0,\n",
       "          0,   0],\n",
       "       [  0,   0,   0,   0,   0,   0,   0,   0,   0,   0,   0,   0,   0,\n",
       "          0,   0,   0,   0,   0,   0,   0,   0,   0,   0,   0,   0,   0,\n",
       "          0,   0],\n",
       "       [  0,   0,   0,   0,   0,   0,   0,   0,   0,   0,   0,   0,   0,\n",
       "          0,   0,   0,   0,   0,   0,   0,   0,   0,   0,   0,   0,   0,\n",
       "          0,   0]], dtype=uint8)"
      ]
     },
     "execution_count": 211,
     "metadata": {},
     "output_type": "execute_result"
    }
   ],
   "source": [
    "X_test[1]"
   ]
  },
  {
   "cell_type": "code",
   "execution_count": 10,
   "metadata": {},
   "outputs": [
    {
     "data": {
      "text/plain": [
       "(10000,)"
      ]
     },
     "execution_count": 10,
     "metadata": {},
     "output_type": "execute_result"
    }
   ],
   "source": [
    "y_test.shape"
   ]
  },
  {
   "cell_type": "code",
   "execution_count": 11,
   "metadata": {},
   "outputs": [
    {
     "data": {
      "text/plain": [
       "2"
      ]
     },
     "execution_count": 11,
     "metadata": {},
     "output_type": "execute_result"
    }
   ],
   "source": [
    "y_test[1]"
   ]
  },
  {
   "cell_type": "markdown",
   "metadata": {},
   "source": [
    "#### Preprocess data"
   ]
  },
  {
   "cell_type": "code",
   "execution_count": 12,
   "metadata": {
    "collapsed": true
   },
   "outputs": [],
   "source": [
    "X_train = X_train.reshape(60000, 784).astype('float32')\n",
    "X_test = X_test.reshape(10000, 784).astype('float32')"
   ]
  },
  {
   "cell_type": "code",
   "execution_count": 13,
   "metadata": {
    "collapsed": true
   },
   "outputs": [],
   "source": [
    "X_train /= 255\n",
    "X_test /= 255"
   ]
  },
  {
   "cell_type": "code",
   "execution_count": 57,
   "metadata": {},
   "outputs": [
    {
     "data": {
      "text/plain": [
       "(28, 28)"
      ]
     },
     "execution_count": 57,
     "metadata": {},
     "output_type": "execute_result"
    }
   ],
   "source": [
    "X_test[0].shape\n"
   ]
  },
  {
   "cell_type": "code",
   "execution_count": 59,
   "metadata": {},
   "outputs": [
    {
     "data": {
      "text/plain": [
       "array([[  0,   0,   0,   0,   0,   0,   0,   0,   0,   0,   0,   0,   0,\n",
       "          0,   0,   0,   0,   0,   0,   0,   0,   0,   0,   0,   0,   0,\n",
       "          0,   0],\n",
       "       [  0,   0,   0,   0,   0,   0,   0,   0,   0,   0,   0,   0,   0,\n",
       "          0,   0,   0,   0,   0,   0,   0,   0,   0,   0,   0,   0,   0,\n",
       "          0,   0],\n",
       "       [  0,   0,   0,   0,   0,   0,   0,   0,   0,   0,   0,   0,   0,\n",
       "          0,   0,   0,   0,   0,   0,   0,   0,   0,   0,   0,   0,   0,\n",
       "          0,   0],\n",
       "       [  0,   0,   0,   0,   0,   0,   0,   0,   0,   0,   0,   0,   0,\n",
       "          0,   0,   0,   0,   0,   0,   0,   0,   0,   0,   0,   0,   0,\n",
       "          0,   0],\n",
       "       [  0,   0,   0,   0,   0,   0,   0,   0,   0,   0,   0,   0,   0,\n",
       "          0,   0,   0,   0,   0,   0,   0,   0,   0,   0,   0,   0,   0,\n",
       "          0,   0],\n",
       "       [  0,   0,   0,   0,   0,   0,   0,   0,   0,   0,   0,   0,   0,\n",
       "          0,   0,   0,   0,   0,   0,   0,   0,   0,   0,   0,   0,   0,\n",
       "          0,   0],\n",
       "       [  0,   0,   0,   0,   0,   0,   0,   0,   0,   0,   0,   0,   0,\n",
       "          0,   0,   0,   0,   0,   0,   0,   0,   0,   0,   0,   0,   0,\n",
       "          0,   0],\n",
       "       [  0,   0,   0,   0,   0,   0,  84, 185, 159, 151,  60,  36,   0,\n",
       "          0,   0,   0,   0,   0,   0,   0,   0,   0,   0,   0,   0,   0,\n",
       "          0,   0],\n",
       "       [  0,   0,   0,   0,   0,   0, 222, 254, 254, 254, 254, 241, 198,\n",
       "        198, 198, 198, 198, 198, 198, 198, 170,  52,   0,   0,   0,   0,\n",
       "          0,   0],\n",
       "       [  0,   0,   0,   0,   0,   0,  67, 114,  72, 114, 163, 227, 254,\n",
       "        225, 254, 254, 254, 250, 229, 254, 254, 140,   0,   0,   0,   0,\n",
       "          0,   0],\n",
       "       [  0,   0,   0,   0,   0,   0,   0,   0,   0,   0,   0,  17,  66,\n",
       "         14,  67,  67,  67,  59,  21, 236, 254, 106,   0,   0,   0,   0,\n",
       "          0,   0],\n",
       "       [  0,   0,   0,   0,   0,   0,   0,   0,   0,   0,   0,   0,   0,\n",
       "          0,   0,   0,   0,   0,  83, 253, 209,  18,   0,   0,   0,   0,\n",
       "          0,   0],\n",
       "       [  0,   0,   0,   0,   0,   0,   0,   0,   0,   0,   0,   0,   0,\n",
       "          0,   0,   0,   0,  22, 233, 255,  83,   0,   0,   0,   0,   0,\n",
       "          0,   0],\n",
       "       [  0,   0,   0,   0,   0,   0,   0,   0,   0,   0,   0,   0,   0,\n",
       "          0,   0,   0,   0, 129, 254, 238,  44,   0,   0,   0,   0,   0,\n",
       "          0,   0],\n",
       "       [  0,   0,   0,   0,   0,   0,   0,   0,   0,   0,   0,   0,   0,\n",
       "          0,   0,   0,  59, 249, 254,  62,   0,   0,   0,   0,   0,   0,\n",
       "          0,   0],\n",
       "       [  0,   0,   0,   0,   0,   0,   0,   0,   0,   0,   0,   0,   0,\n",
       "          0,   0,   0, 133, 254, 187,   5,   0,   0,   0,   0,   0,   0,\n",
       "          0,   0],\n",
       "       [  0,   0,   0,   0,   0,   0,   0,   0,   0,   0,   0,   0,   0,\n",
       "          0,   0,   9, 205, 248,  58,   0,   0,   0,   0,   0,   0,   0,\n",
       "          0,   0],\n",
       "       [  0,   0,   0,   0,   0,   0,   0,   0,   0,   0,   0,   0,   0,\n",
       "          0,   0, 126, 254, 182,   0,   0,   0,   0,   0,   0,   0,   0,\n",
       "          0,   0],\n",
       "       [  0,   0,   0,   0,   0,   0,   0,   0,   0,   0,   0,   0,   0,\n",
       "          0,  75, 251, 240,  57,   0,   0,   0,   0,   0,   0,   0,   0,\n",
       "          0,   0],\n",
       "       [  0,   0,   0,   0,   0,   0,   0,   0,   0,   0,   0,   0,   0,\n",
       "         19, 221, 254, 166,   0,   0,   0,   0,   0,   0,   0,   0,   0,\n",
       "          0,   0],\n",
       "       [  0,   0,   0,   0,   0,   0,   0,   0,   0,   0,   0,   0,   3,\n",
       "        203, 254, 219,  35,   0,   0,   0,   0,   0,   0,   0,   0,   0,\n",
       "          0,   0],\n",
       "       [  0,   0,   0,   0,   0,   0,   0,   0,   0,   0,   0,   0,  38,\n",
       "        254, 254,  77,   0,   0,   0,   0,   0,   0,   0,   0,   0,   0,\n",
       "          0,   0],\n",
       "       [  0,   0,   0,   0,   0,   0,   0,   0,   0,   0,   0,  31, 224,\n",
       "        254, 115,   1,   0,   0,   0,   0,   0,   0,   0,   0,   0,   0,\n",
       "          0,   0],\n",
       "       [  0,   0,   0,   0,   0,   0,   0,   0,   0,   0,   0, 133, 254,\n",
       "        254,  52,   0,   0,   0,   0,   0,   0,   0,   0,   0,   0,   0,\n",
       "          0,   0],\n",
       "       [  0,   0,   0,   0,   0,   0,   0,   0,   0,   0,  61, 242, 254,\n",
       "        254,  52,   0,   0,   0,   0,   0,   0,   0,   0,   0,   0,   0,\n",
       "          0,   0],\n",
       "       [  0,   0,   0,   0,   0,   0,   0,   0,   0,   0, 121, 254, 254,\n",
       "        219,  40,   0,   0,   0,   0,   0,   0,   0,   0,   0,   0,   0,\n",
       "          0,   0],\n",
       "       [  0,   0,   0,   0,   0,   0,   0,   0,   0,   0, 121, 254, 207,\n",
       "         18,   0,   0,   0,   0,   0,   0,   0,   0,   0,   0,   0,   0,\n",
       "          0,   0],\n",
       "       [  0,   0,   0,   0,   0,   0,   0,   0,   0,   0,   0,   0,   0,\n",
       "          0,   0,   0,   0,   0,   0,   0,   0,   0,   0,   0,   0,   0,\n",
       "          0,   0]], dtype=uint8)"
      ]
     },
     "execution_count": 59,
     "metadata": {},
     "output_type": "execute_result"
    }
   ],
   "source": [
    "X_test[0]"
   ]
  },
  {
   "cell_type": "code",
   "execution_count": 15,
   "metadata": {
    "collapsed": true
   },
   "outputs": [],
   "source": [
    "n_classes = 10\n",
    "y_train = keras.utils.to_categorical(y_train, n_classes)\n",
    "y_test = keras.utils.to_categorical(y_test, n_classes)"
   ]
  },
  {
   "cell_type": "code",
   "execution_count": 16,
   "metadata": {},
   "outputs": [
    {
     "data": {
      "text/plain": [
       "array([0., 0., 0., 0., 0., 0., 0., 1., 0., 0.])"
      ]
     },
     "execution_count": 16,
     "metadata": {},
     "output_type": "execute_result"
    }
   ],
   "source": [
    "y_test[0]"
   ]
  },
  {
   "cell_type": "markdown",
   "metadata": {},
   "source": [
    "#### Design neural network architecture"
   ]
  },
  {
   "cell_type": "code",
   "execution_count": 17,
   "metadata": {
    "collapsed": true
   },
   "outputs": [],
   "source": [
    "model = Sequential()\n",
    "model.add(Dense(64, activation='sigmoid', input_shape=(784,)))\n",
    "model.add(Dense(10, activation='softmax'))"
   ]
  },
  {
   "cell_type": "code",
   "execution_count": 18,
   "metadata": {},
   "outputs": [
    {
     "name": "stdout",
     "output_type": "stream",
     "text": [
      "_________________________________________________________________\n",
      "Layer (type)                 Output Shape              Param #   \n",
      "=================================================================\n",
      "dense_1 (Dense)              (None, 64)                50240     \n",
      "_________________________________________________________________\n",
      "dense_2 (Dense)              (None, 10)                650       \n",
      "=================================================================\n",
      "Total params: 50,890\n",
      "Trainable params: 50,890\n",
      "Non-trainable params: 0\n",
      "_________________________________________________________________\n"
     ]
    }
   ],
   "source": [
    "model.summary()"
   ]
  },
  {
   "cell_type": "code",
   "execution_count": 19,
   "metadata": {},
   "outputs": [
    {
     "data": {
      "text/plain": [
       "50176"
      ]
     },
     "execution_count": 19,
     "metadata": {},
     "output_type": "execute_result"
    }
   ],
   "source": [
    "(64*784)"
   ]
  },
  {
   "cell_type": "code",
   "execution_count": 20,
   "metadata": {},
   "outputs": [
    {
     "data": {
      "text/plain": [
       "50240"
      ]
     },
     "execution_count": 20,
     "metadata": {},
     "output_type": "execute_result"
    }
   ],
   "source": [
    "(64*784)+64"
   ]
  },
  {
   "cell_type": "code",
   "execution_count": 21,
   "metadata": {},
   "outputs": [
    {
     "data": {
      "text/plain": [
       "650"
      ]
     },
     "execution_count": 21,
     "metadata": {},
     "output_type": "execute_result"
    }
   ],
   "source": [
    "(10*64)+10"
   ]
  },
  {
   "cell_type": "markdown",
   "metadata": {},
   "source": [
    "#### Configure model"
   ]
  },
  {
   "cell_type": "code",
   "execution_count": 22,
   "metadata": {
    "collapsed": true
   },
   "outputs": [],
   "source": [
    "model.compile(loss='mean_squared_error', optimizer=SGD(lr=0.01), metrics=['accuracy'])"
   ]
  },
  {
   "cell_type": "markdown",
   "metadata": {},
   "source": [
    "#### Train!"
   ]
  },
  {
   "cell_type": "code",
   "execution_count": 23,
   "metadata": {},
   "outputs": [
    {
     "name": "stdout",
     "output_type": "stream",
     "text": [
      "Train on 60000 samples, validate on 10000 samples\n",
      "Epoch 1/200\n",
      "60000/60000 [==============================] - 2s 31us/step - loss: 0.0915 - acc: 0.0895 - val_loss: 0.0911 - val_acc: 0.0955\n",
      "Epoch 2/200\n",
      "60000/60000 [==============================] - 2s 27us/step - loss: 0.0908 - acc: 0.1058 - val_loss: 0.0905 - val_acc: 0.1162\n",
      "Epoch 3/200\n",
      "60000/60000 [==============================] - 2s 28us/step - loss: 0.0903 - acc: 0.1406 - val_loss: 0.0901 - val_acc: 0.1513\n",
      "Epoch 4/200\n",
      "60000/60000 [==============================] - 2s 28us/step - loss: 0.0899 - acc: 0.1925 - val_loss: 0.0897 - val_acc: 0.2058\n",
      "Epoch 5/200\n",
      "60000/60000 [==============================] - 2s 30us/step - loss: 0.0895 - acc: 0.2401 - val_loss: 0.0893 - val_acc: 0.2424\n",
      "Epoch 6/200\n",
      "60000/60000 [==============================] - 2s 29us/step - loss: 0.0891 - acc: 0.2706 - val_loss: 0.0889 - val_acc: 0.2715\n",
      "Epoch 7/200\n",
      "60000/60000 [==============================] - 2s 29us/step - loss: 0.0888 - acc: 0.2905 - val_loss: 0.0886 - val_acc: 0.2879\n",
      "Epoch 8/200\n",
      "60000/60000 [==============================] - 2s 28us/step - loss: 0.0884 - acc: 0.3022 - val_loss: 0.0883 - val_acc: 0.3019\n",
      "Epoch 9/200\n",
      "60000/60000 [==============================] - 2s 29us/step - loss: 0.0881 - acc: 0.3102 - val_loss: 0.0879 - val_acc: 0.3093\n",
      "Epoch 10/200\n",
      "60000/60000 [==============================] - 2s 28us/step - loss: 0.0877 - acc: 0.3146 - val_loss: 0.0876 - val_acc: 0.3145\n",
      "Epoch 11/200\n",
      "60000/60000 [==============================] - 2s 31us/step - loss: 0.0874 - acc: 0.3180 - val_loss: 0.0872 - val_acc: 0.3183\n",
      "Epoch 12/200\n",
      "60000/60000 [==============================] - 2s 29us/step - loss: 0.0871 - acc: 0.3209 - val_loss: 0.0869 - val_acc: 0.3204\n",
      "Epoch 13/200\n",
      "60000/60000 [==============================] - 2s 30us/step - loss: 0.0867 - acc: 0.3236 - val_loss: 0.0865 - val_acc: 0.3237\n",
      "Epoch 14/200\n",
      "60000/60000 [==============================] - 2s 28us/step - loss: 0.0864 - acc: 0.3243 - val_loss: 0.0862 - val_acc: 0.3256\n",
      "Epoch 15/200\n",
      "60000/60000 [==============================] - 2s 32us/step - loss: 0.0860 - acc: 0.3264 - val_loss: 0.0858 - val_acc: 0.3274\n",
      "Epoch 16/200\n",
      "60000/60000 [==============================] - 2s 34us/step - loss: 0.0857 - acc: 0.3277 - val_loss: 0.0855 - val_acc: 0.3283\n",
      "Epoch 17/200\n",
      "60000/60000 [==============================] - 3s 46us/step - loss: 0.0853 - acc: 0.3289 - val_loss: 0.0851 - val_acc: 0.3297\n",
      "Epoch 18/200\n",
      "60000/60000 [==============================] - 2s 29us/step - loss: 0.0850 - acc: 0.3303 - val_loss: 0.0847 - val_acc: 0.3312\n",
      "Epoch 19/200\n",
      "60000/60000 [==============================] - 2s 38us/step - loss: 0.0846 - acc: 0.3325 - val_loss: 0.0844 - val_acc: 0.3342\n",
      "Epoch 20/200\n",
      "60000/60000 [==============================] - 2s 28us/step - loss: 0.0842 - acc: 0.3337 - val_loss: 0.0840 - val_acc: 0.3354\n",
      "Epoch 21/200\n",
      "60000/60000 [==============================] - 2s 29us/step - loss: 0.0838 - acc: 0.3353 - val_loss: 0.0836 - val_acc: 0.3385\n",
      "Epoch 22/200\n",
      "60000/60000 [==============================] - 2s 35us/step - loss: 0.0835 - acc: 0.3379 - val_loss: 0.0832 - val_acc: 0.3419\n",
      "Epoch 23/200\n",
      "60000/60000 [==============================] - 3s 43us/step - loss: 0.0831 - acc: 0.3404 - val_loss: 0.0828 - val_acc: 0.3456\n",
      "Epoch 24/200\n",
      "60000/60000 [==============================] - 3s 58us/step - loss: 0.0827 - acc: 0.3436 - val_loss: 0.0824 - val_acc: 0.3507\n",
      "Epoch 25/200\n",
      "60000/60000 [==============================] - 3s 56us/step - loss: 0.0822 - acc: 0.3464 - val_loss: 0.0820 - val_acc: 0.3559\n",
      "Epoch 26/200\n",
      "60000/60000 [==============================] - 2s 37us/step - loss: 0.0818 - acc: 0.3513 - val_loss: 0.0816 - val_acc: 0.3620\n",
      "Epoch 27/200\n",
      "60000/60000 [==============================] - 2s 34us/step - loss: 0.0814 - acc: 0.3556 - val_loss: 0.0811 - val_acc: 0.3668\n",
      "Epoch 28/200\n",
      "60000/60000 [==============================] - 2s 31us/step - loss: 0.0810 - acc: 0.3617 - val_loss: 0.0807 - val_acc: 0.3728\n",
      "Epoch 29/200\n",
      "60000/60000 [==============================] - 2s 29us/step - loss: 0.0806 - acc: 0.3667 - val_loss: 0.0802 - val_acc: 0.3776\n",
      "Epoch 30/200\n",
      "60000/60000 [==============================] - 2s 30us/step - loss: 0.0801 - acc: 0.3728 - val_loss: 0.0798 - val_acc: 0.3839\n",
      "Epoch 31/200\n",
      "60000/60000 [==============================] - 2s 37us/step - loss: 0.0797 - acc: 0.3791 - val_loss: 0.0793 - val_acc: 0.3913\n",
      "Epoch 32/200\n",
      "60000/60000 [==============================] - 2s 36us/step - loss: 0.0792 - acc: 0.3865 - val_loss: 0.0789 - val_acc: 0.3988\n",
      "Epoch 33/200\n",
      "60000/60000 [==============================] - 2s 38us/step - loss: 0.0788 - acc: 0.3932 - val_loss: 0.0784 - val_acc: 0.4060\n",
      "Epoch 34/200\n",
      "60000/60000 [==============================] - 2s 32us/step - loss: 0.0783 - acc: 0.3997 - val_loss: 0.0780 - val_acc: 0.4151\n",
      "Epoch 35/200\n",
      "60000/60000 [==============================] - 2s 33us/step - loss: 0.0779 - acc: 0.4092 - val_loss: 0.0775 - val_acc: 0.4234\n",
      "Epoch 36/200\n",
      "60000/60000 [==============================] - 2s 38us/step - loss: 0.0774 - acc: 0.4169 - val_loss: 0.0770 - val_acc: 0.4321\n",
      "Epoch 37/200\n",
      "60000/60000 [==============================] - 2s 35us/step - loss: 0.0769 - acc: 0.4251 - val_loss: 0.0766 - val_acc: 0.4394\n",
      "Epoch 38/200\n",
      "60000/60000 [==============================] - 2s 30us/step - loss: 0.0765 - acc: 0.4355 - val_loss: 0.0761 - val_acc: 0.4468\n",
      "Epoch 39/200\n",
      "60000/60000 [==============================] - 2s 31us/step - loss: 0.0760 - acc: 0.4432 - val_loss: 0.0756 - val_acc: 0.4560\n",
      "Epoch 40/200\n",
      "60000/60000 [==============================] - 2s 33us/step - loss: 0.0755 - acc: 0.4520 - val_loss: 0.0751 - val_acc: 0.4666\n",
      "Epoch 41/200\n",
      "60000/60000 [==============================] - 2s 33us/step - loss: 0.0751 - acc: 0.4625 - val_loss: 0.0746 - val_acc: 0.4746\n",
      "Epoch 42/200\n",
      "60000/60000 [==============================] - 2s 35us/step - loss: 0.0746 - acc: 0.4719 - val_loss: 0.0742 - val_acc: 0.4853\n",
      "Epoch 43/200\n",
      "60000/60000 [==============================] - 2s 30us/step - loss: 0.0741 - acc: 0.4803 - val_loss: 0.0737 - val_acc: 0.4950\n",
      "Epoch 44/200\n",
      "60000/60000 [==============================] - 2s 30us/step - loss: 0.0736 - acc: 0.4904 - val_loss: 0.0732 - val_acc: 0.5032\n",
      "Epoch 45/200\n",
      "60000/60000 [==============================] - 2s 40us/step - loss: 0.0732 - acc: 0.4991 - val_loss: 0.0727 - val_acc: 0.5118\n",
      "Epoch 46/200\n",
      "60000/60000 [==============================] - 2s 29us/step - loss: 0.0727 - acc: 0.5086 - val_loss: 0.0722 - val_acc: 0.5213\n",
      "Epoch 47/200\n",
      "60000/60000 [==============================] - 2s 34us/step - loss: 0.0722 - acc: 0.5156 - val_loss: 0.0718 - val_acc: 0.5285\n",
      "Epoch 48/200\n",
      "60000/60000 [==============================] - 3s 42us/step - loss: 0.0717 - acc: 0.5253 - val_loss: 0.0713 - val_acc: 0.5354\n",
      "Epoch 49/200\n",
      "60000/60000 [==============================] - 2s 36us/step - loss: 0.0713 - acc: 0.5326 - val_loss: 0.0708 - val_acc: 0.5427\n",
      "Epoch 50/200\n",
      "60000/60000 [==============================] - 2s 29us/step - loss: 0.0708 - acc: 0.5398 - val_loss: 0.0703 - val_acc: 0.5498\n",
      "Epoch 51/200\n",
      "60000/60000 [==============================] - 2s 31us/step - loss: 0.0703 - acc: 0.5478 - val_loss: 0.0698 - val_acc: 0.5554\n",
      "Epoch 52/200\n",
      "60000/60000 [==============================] - 2s 41us/step - loss: 0.0698 - acc: 0.5539 - val_loss: 0.0693 - val_acc: 0.5619\n",
      "Epoch 53/200\n",
      "60000/60000 [==============================] - 3s 58us/step - loss: 0.0694 - acc: 0.5607 - val_loss: 0.0689 - val_acc: 0.5678\n",
      "Epoch 54/200\n",
      "60000/60000 [==============================] - 3s 58us/step - loss: 0.0689 - acc: 0.5666 - val_loss: 0.0684 - val_acc: 0.5741\n",
      "Epoch 55/200\n",
      "60000/60000 [==============================] - 3s 56us/step - loss: 0.0684 - acc: 0.5725 - val_loss: 0.0679 - val_acc: 0.5785\n",
      "Epoch 56/200\n",
      "60000/60000 [==============================] - 2s 37us/step - loss: 0.0680 - acc: 0.5782 - val_loss: 0.0674 - val_acc: 0.5835\n",
      "Epoch 57/200\n",
      "60000/60000 [==============================] - 2s 31us/step - loss: 0.0675 - acc: 0.5831 - val_loss: 0.0670 - val_acc: 0.5894\n",
      "Epoch 58/200\n",
      "60000/60000 [==============================] - 2s 29us/step - loss: 0.0670 - acc: 0.5872 - val_loss: 0.0665 - val_acc: 0.5941\n",
      "Epoch 59/200\n",
      "60000/60000 [==============================] - 2s 26us/step - loss: 0.0666 - acc: 0.5921 - val_loss: 0.0660 - val_acc: 0.5985\n",
      "Epoch 60/200\n",
      "60000/60000 [==============================] - 2s 27us/step - loss: 0.0661 - acc: 0.5962 - val_loss: 0.0655 - val_acc: 0.6028\n",
      "Epoch 61/200\n",
      "60000/60000 [==============================] - 2s 27us/step - loss: 0.0656 - acc: 0.6003 - val_loss: 0.0651 - val_acc: 0.6068\n",
      "Epoch 62/200\n",
      "60000/60000 [==============================] - 2s 28us/step - loss: 0.0652 - acc: 0.6041 - val_loss: 0.0646 - val_acc: 0.6102\n",
      "Epoch 63/200\n",
      "60000/60000 [==============================] - 2s 30us/step - loss: 0.0647 - acc: 0.6080 - val_loss: 0.0641 - val_acc: 0.6136\n",
      "Epoch 64/200\n",
      "60000/60000 [==============================] - 2s 30us/step - loss: 0.0642 - acc: 0.6117 - val_loss: 0.0636 - val_acc: 0.6163\n",
      "Epoch 65/200\n",
      "60000/60000 [==============================] - 2s 30us/step - loss: 0.0638 - acc: 0.6152 - val_loss: 0.0632 - val_acc: 0.6189\n",
      "Epoch 66/200\n",
      "60000/60000 [==============================] - 2s 27us/step - loss: 0.0633 - acc: 0.6186 - val_loss: 0.0627 - val_acc: 0.6225\n",
      "Epoch 67/200\n",
      "60000/60000 [==============================] - 2s 26us/step - loss: 0.0629 - acc: 0.6220 - val_loss: 0.0623 - val_acc: 0.6257\n",
      "Epoch 68/200\n",
      "60000/60000 [==============================] - 2s 29us/step - loss: 0.0624 - acc: 0.6256 - val_loss: 0.0618 - val_acc: 0.6276\n",
      "Epoch 69/200\n",
      "60000/60000 [==============================] - 2s 27us/step - loss: 0.0620 - acc: 0.6288 - val_loss: 0.0613 - val_acc: 0.6304\n",
      "Epoch 70/200\n",
      "60000/60000 [==============================] - 2s 30us/step - loss: 0.0615 - acc: 0.6319 - val_loss: 0.0609 - val_acc: 0.6338\n",
      "Epoch 71/200\n",
      "60000/60000 [==============================] - 2s 26us/step - loss: 0.0611 - acc: 0.6345 - val_loss: 0.0604 - val_acc: 0.6362\n",
      "Epoch 72/200\n",
      "60000/60000 [==============================] - 2s 28us/step - loss: 0.0606 - acc: 0.6373 - val_loss: 0.0600 - val_acc: 0.6390\n",
      "Epoch 73/200\n",
      "60000/60000 [==============================] - 2s 27us/step - loss: 0.0602 - acc: 0.6397 - val_loss: 0.0595 - val_acc: 0.6420\n",
      "Epoch 74/200\n",
      "60000/60000 [==============================] - 2s 29us/step - loss: 0.0597 - acc: 0.6424 - val_loss: 0.0591 - val_acc: 0.6439\n",
      "Epoch 75/200\n",
      "60000/60000 [==============================] - 2s 32us/step - loss: 0.0593 - acc: 0.6446 - val_loss: 0.0586 - val_acc: 0.6467\n",
      "Epoch 76/200\n",
      "60000/60000 [==============================] - 2s 31us/step - loss: 0.0589 - acc: 0.6470 - val_loss: 0.0582 - val_acc: 0.6485\n",
      "Epoch 77/200\n",
      "60000/60000 [==============================] - 2s 27us/step - loss: 0.0584 - acc: 0.6497 - val_loss: 0.0577 - val_acc: 0.6496\n",
      "Epoch 78/200\n",
      "60000/60000 [==============================] - 2s 28us/step - loss: 0.0580 - acc: 0.6520 - val_loss: 0.0573 - val_acc: 0.6520\n",
      "Epoch 79/200\n",
      "60000/60000 [==============================] - 2s 27us/step - loss: 0.0576 - acc: 0.6548 - val_loss: 0.0569 - val_acc: 0.6553\n",
      "Epoch 80/200\n",
      "60000/60000 [==============================] - 2s 29us/step - loss: 0.0571 - acc: 0.6572 - val_loss: 0.0564 - val_acc: 0.6583\n",
      "Epoch 81/200\n",
      "60000/60000 [==============================] - 2s 36us/step - loss: 0.0567 - acc: 0.6598 - val_loss: 0.0560 - val_acc: 0.6605\n",
      "Epoch 82/200\n",
      "60000/60000 [==============================] - 2s 27us/step - loss: 0.0563 - acc: 0.6625 - val_loss: 0.0556 - val_acc: 0.6645\n",
      "Epoch 83/200\n",
      "60000/60000 [==============================] - 2s 32us/step - loss: 0.0559 - acc: 0.6652 - val_loss: 0.0551 - val_acc: 0.6676\n",
      "Epoch 84/200\n",
      "60000/60000 [==============================] - 3s 42us/step - loss: 0.0555 - acc: 0.6681 - val_loss: 0.0547 - val_acc: 0.6702\n",
      "Epoch 85/200\n",
      "60000/60000 [==============================] - 3s 44us/step - loss: 0.0550 - acc: 0.6713 - val_loss: 0.0543 - val_acc: 0.6741\n",
      "Epoch 86/200\n",
      "60000/60000 [==============================] - 3s 43us/step - loss: 0.0546 - acc: 0.6744 - val_loss: 0.0539 - val_acc: 0.6777\n",
      "Epoch 87/200\n",
      "60000/60000 [==============================] - 2s 41us/step - loss: 0.0542 - acc: 0.6776 - val_loss: 0.0535 - val_acc: 0.6815\n",
      "Epoch 88/200\n",
      "60000/60000 [==============================] - 3s 45us/step - loss: 0.0538 - acc: 0.6809 - val_loss: 0.0531 - val_acc: 0.6840\n",
      "Epoch 89/200\n",
      "60000/60000 [==============================] - 2s 42us/step - loss: 0.0534 - acc: 0.6841 - val_loss: 0.0527 - val_acc: 0.6875\n",
      "Epoch 90/200\n",
      "60000/60000 [==============================] - 2s 38us/step - loss: 0.0530 - acc: 0.6871 - val_loss: 0.0523 - val_acc: 0.6913\n",
      "Epoch 91/200\n",
      "60000/60000 [==============================] - 2s 28us/step - loss: 0.0527 - acc: 0.6901 - val_loss: 0.0519 - val_acc: 0.6952\n",
      "Epoch 92/200\n",
      "60000/60000 [==============================] - 2s 28us/step - loss: 0.0523 - acc: 0.6936 - val_loss: 0.0515 - val_acc: 0.6984\n",
      "Epoch 93/200\n",
      "60000/60000 [==============================] - 2s 30us/step - loss: 0.0519 - acc: 0.6973 - val_loss: 0.0511 - val_acc: 0.7025\n",
      "Epoch 94/200\n",
      "60000/60000 [==============================] - 2s 29us/step - loss: 0.0515 - acc: 0.7010 - val_loss: 0.0507 - val_acc: 0.7073\n",
      "Epoch 95/200\n",
      "60000/60000 [==============================] - 2s 29us/step - loss: 0.0511 - acc: 0.7042 - val_loss: 0.0503 - val_acc: 0.7101\n",
      "Epoch 96/200\n",
      "60000/60000 [==============================] - 2s 28us/step - loss: 0.0507 - acc: 0.7081 - val_loss: 0.0499 - val_acc: 0.7141\n",
      "Epoch 97/200\n",
      "60000/60000 [==============================] - 2s 28us/step - loss: 0.0504 - acc: 0.7114 - val_loss: 0.0496 - val_acc: 0.7191\n",
      "Epoch 98/200\n",
      "60000/60000 [==============================] - 2s 28us/step - loss: 0.0500 - acc: 0.7148 - val_loss: 0.0492 - val_acc: 0.7226\n",
      "Epoch 99/200\n",
      "60000/60000 [==============================] - 2s 28us/step - loss: 0.0497 - acc: 0.7187 - val_loss: 0.0488 - val_acc: 0.7262\n",
      "Epoch 100/200\n",
      "60000/60000 [==============================] - 2s 33us/step - loss: 0.0493 - acc: 0.7220 - val_loss: 0.0485 - val_acc: 0.7291\n",
      "Epoch 101/200\n",
      "60000/60000 [==============================] - 2s 38us/step - loss: 0.0489 - acc: 0.7248 - val_loss: 0.0481 - val_acc: 0.7336\n",
      "Epoch 102/200\n",
      "60000/60000 [==============================] - 2s 30us/step - loss: 0.0486 - acc: 0.7280 - val_loss: 0.0478 - val_acc: 0.7368\n",
      "Epoch 103/200\n",
      "60000/60000 [==============================] - 2s 28us/step - loss: 0.0482 - acc: 0.7308 - val_loss: 0.0474 - val_acc: 0.7395\n",
      "Epoch 104/200\n",
      "60000/60000 [==============================] - 2s 27us/step - loss: 0.0479 - acc: 0.7344 - val_loss: 0.0471 - val_acc: 0.7425\n",
      "Epoch 105/200\n",
      "60000/60000 [==============================] - 2s 28us/step - loss: 0.0476 - acc: 0.7374 - val_loss: 0.0467 - val_acc: 0.7460\n",
      "Epoch 106/200\n",
      "60000/60000 [==============================] - 2s 28us/step - loss: 0.0472 - acc: 0.7407 - val_loss: 0.0464 - val_acc: 0.7490\n",
      "Epoch 107/200\n",
      "60000/60000 [==============================] - 2s 30us/step - loss: 0.0469 - acc: 0.7432 - val_loss: 0.0460 - val_acc: 0.7522\n",
      "Epoch 108/200\n",
      "60000/60000 [==============================] - 2s 28us/step - loss: 0.0466 - acc: 0.7459 - val_loss: 0.0457 - val_acc: 0.7549\n",
      "Epoch 109/200\n",
      "60000/60000 [==============================] - 2s 34us/step - loss: 0.0462 - acc: 0.7483 - val_loss: 0.0454 - val_acc: 0.7559\n",
      "Epoch 110/200\n",
      "60000/60000 [==============================] - 2s 32us/step - loss: 0.0459 - acc: 0.7508 - val_loss: 0.0450 - val_acc: 0.7591\n",
      "Epoch 111/200\n",
      "60000/60000 [==============================] - 2s 28us/step - loss: 0.0456 - acc: 0.7528 - val_loss: 0.0447 - val_acc: 0.7620\n",
      "Epoch 112/200\n",
      "60000/60000 [==============================] - 3s 45us/step - loss: 0.0453 - acc: 0.7549 - val_loss: 0.0444 - val_acc: 0.7648\n",
      "Epoch 113/200\n",
      "60000/60000 [==============================] - 2s 30us/step - loss: 0.0450 - acc: 0.7570 - val_loss: 0.0441 - val_acc: 0.7663\n",
      "Epoch 114/200\n",
      "60000/60000 [==============================] - 2s 35us/step - loss: 0.0447 - acc: 0.7590 - val_loss: 0.0438 - val_acc: 0.7680\n",
      "Epoch 115/200\n",
      "60000/60000 [==============================] - 2s 40us/step - loss: 0.0444 - acc: 0.7612 - val_loss: 0.0435 - val_acc: 0.7699\n",
      "Epoch 116/200\n",
      "60000/60000 [==============================] - 2s 41us/step - loss: 0.0441 - acc: 0.7629 - val_loss: 0.0432 - val_acc: 0.7717\n",
      "Epoch 117/200\n",
      "60000/60000 [==============================] - 2s 33us/step - loss: 0.0438 - acc: 0.7647 - val_loss: 0.0429 - val_acc: 0.7728\n"
     ]
    },
    {
     "name": "stdout",
     "output_type": "stream",
     "text": [
      "Epoch 118/200\n",
      "60000/60000 [==============================] - 2s 36us/step - loss: 0.0435 - acc: 0.7665 - val_loss: 0.0426 - val_acc: 0.7756\n",
      "Epoch 119/200\n",
      "60000/60000 [==============================] - 2s 31us/step - loss: 0.0432 - acc: 0.7682 - val_loss: 0.0423 - val_acc: 0.7779\n",
      "Epoch 120/200\n",
      "60000/60000 [==============================] - 2s 26us/step - loss: 0.0429 - acc: 0.7700 - val_loss: 0.0420 - val_acc: 0.7790\n",
      "Epoch 121/200\n",
      "60000/60000 [==============================] - 2s 27us/step - loss: 0.0426 - acc: 0.7712 - val_loss: 0.0417 - val_acc: 0.7806\n",
      "Epoch 122/200\n",
      "60000/60000 [==============================] - 2s 27us/step - loss: 0.0423 - acc: 0.7727 - val_loss: 0.0414 - val_acc: 0.7822\n",
      "Epoch 123/200\n",
      "60000/60000 [==============================] - 2s 40us/step - loss: 0.0421 - acc: 0.7746 - val_loss: 0.0411 - val_acc: 0.7849\n",
      "Epoch 124/200\n",
      "60000/60000 [==============================] - 2s 38us/step - loss: 0.0418 - acc: 0.7765 - val_loss: 0.0409 - val_acc: 0.7868\n",
      "Epoch 125/200\n",
      "60000/60000 [==============================] - 2s 26us/step - loss: 0.0415 - acc: 0.7784 - val_loss: 0.0406 - val_acc: 0.7881\n",
      "Epoch 126/200\n",
      "60000/60000 [==============================] - 2s 27us/step - loss: 0.0412 - acc: 0.7801 - val_loss: 0.0403 - val_acc: 0.7892\n",
      "Epoch 127/200\n",
      "60000/60000 [==============================] - 2s 27us/step - loss: 0.0410 - acc: 0.7818 - val_loss: 0.0401 - val_acc: 0.7912\n",
      "Epoch 128/200\n",
      "60000/60000 [==============================] - 2s 27us/step - loss: 0.0407 - acc: 0.7835 - val_loss: 0.0398 - val_acc: 0.7930\n",
      "Epoch 129/200\n",
      "60000/60000 [==============================] - 2s 29us/step - loss: 0.0405 - acc: 0.7852 - val_loss: 0.0395 - val_acc: 0.7954\n",
      "Epoch 130/200\n",
      "60000/60000 [==============================] - 2s 27us/step - loss: 0.0402 - acc: 0.7873 - val_loss: 0.0393 - val_acc: 0.7979\n",
      "Epoch 131/200\n",
      "60000/60000 [==============================] - 2s 26us/step - loss: 0.0400 - acc: 0.7888 - val_loss: 0.0390 - val_acc: 0.7992\n",
      "Epoch 132/200\n",
      "60000/60000 [==============================] - 2s 27us/step - loss: 0.0397 - acc: 0.7906 - val_loss: 0.0388 - val_acc: 0.8018\n",
      "Epoch 133/200\n",
      "60000/60000 [==============================] - 2s 27us/step - loss: 0.0395 - acc: 0.7923 - val_loss: 0.0385 - val_acc: 0.8032\n",
      "Epoch 134/200\n",
      "60000/60000 [==============================] - 2s 36us/step - loss: 0.0392 - acc: 0.7942 - val_loss: 0.0383 - val_acc: 0.8045\n",
      "Epoch 135/200\n",
      "60000/60000 [==============================] - 2s 29us/step - loss: 0.0390 - acc: 0.7955 - val_loss: 0.0380 - val_acc: 0.8060\n",
      "Epoch 136/200\n",
      "60000/60000 [==============================] - 2s 32us/step - loss: 0.0387 - acc: 0.7972 - val_loss: 0.0378 - val_acc: 0.8077\n",
      "Epoch 137/200\n",
      "60000/60000 [==============================] - 2s 35us/step - loss: 0.0385 - acc: 0.7989 - val_loss: 0.0376 - val_acc: 0.8090\n",
      "Epoch 138/200\n",
      "60000/60000 [==============================] - 2s 42us/step - loss: 0.0383 - acc: 0.8008 - val_loss: 0.0373 - val_acc: 0.8103\n",
      "Epoch 139/200\n",
      "60000/60000 [==============================] - 2s 36us/step - loss: 0.0380 - acc: 0.8025 - val_loss: 0.0371 - val_acc: 0.8116\n",
      "Epoch 140/200\n",
      "60000/60000 [==============================] - 2s 38us/step - loss: 0.0378 - acc: 0.8043 - val_loss: 0.0369 - val_acc: 0.8135\n",
      "Epoch 141/200\n",
      "60000/60000 [==============================] - 2s 31us/step - loss: 0.0376 - acc: 0.8063 - val_loss: 0.0366 - val_acc: 0.8143\n",
      "Epoch 142/200\n",
      "60000/60000 [==============================] - 2s 29us/step - loss: 0.0374 - acc: 0.8081 - val_loss: 0.0364 - val_acc: 0.8165\n",
      "Epoch 143/200\n",
      "60000/60000 [==============================] - 2s 34us/step - loss: 0.0371 - acc: 0.8095 - val_loss: 0.0362 - val_acc: 0.8186\n",
      "Epoch 144/200\n",
      "60000/60000 [==============================] - 2s 27us/step - loss: 0.0369 - acc: 0.8112 - val_loss: 0.0360 - val_acc: 0.8197\n",
      "Epoch 145/200\n",
      "60000/60000 [==============================] - 2s 28us/step - loss: 0.0367 - acc: 0.8127 - val_loss: 0.0358 - val_acc: 0.8216\n",
      "Epoch 146/200\n",
      "60000/60000 [==============================] - 2s 40us/step - loss: 0.0365 - acc: 0.8142 - val_loss: 0.0355 - val_acc: 0.8227\n",
      "Epoch 147/200\n",
      "60000/60000 [==============================] - 2s 39us/step - loss: 0.0363 - acc: 0.8158 - val_loss: 0.0353 - val_acc: 0.8243\n",
      "Epoch 148/200\n",
      "60000/60000 [==============================] - 2s 32us/step - loss: 0.0361 - acc: 0.8168 - val_loss: 0.0351 - val_acc: 0.8264\n",
      "Epoch 149/200\n",
      "60000/60000 [==============================] - 2s 30us/step - loss: 0.0359 - acc: 0.8185 - val_loss: 0.0349 - val_acc: 0.8275\n",
      "Epoch 150/200\n",
      "60000/60000 [==============================] - 2s 32us/step - loss: 0.0357 - acc: 0.8198 - val_loss: 0.0347 - val_acc: 0.8283\n",
      "Epoch 151/200\n",
      "60000/60000 [==============================] - 2s 30us/step - loss: 0.0355 - acc: 0.8214 - val_loss: 0.0345 - val_acc: 0.8302\n",
      "Epoch 152/200\n",
      "60000/60000 [==============================] - 2s 28us/step - loss: 0.0353 - acc: 0.8226 - val_loss: 0.0343 - val_acc: 0.8312\n",
      "Epoch 153/200\n",
      "60000/60000 [==============================] - 2s 28us/step - loss: 0.0351 - acc: 0.8235 - val_loss: 0.0341 - val_acc: 0.8327\n",
      "Epoch 154/200\n",
      "60000/60000 [==============================] - 2s 32us/step - loss: 0.0349 - acc: 0.8247 - val_loss: 0.0339 - val_acc: 0.8343\n",
      "Epoch 155/200\n",
      "60000/60000 [==============================] - 2s 33us/step - loss: 0.0347 - acc: 0.8260 - val_loss: 0.0337 - val_acc: 0.8359\n",
      "Epoch 156/200\n",
      "60000/60000 [==============================] - 2s 30us/step - loss: 0.0345 - acc: 0.8270 - val_loss: 0.0336 - val_acc: 0.8372\n",
      "Epoch 157/200\n",
      "60000/60000 [==============================] - 3s 44us/step - loss: 0.0344 - acc: 0.8285 - val_loss: 0.0334 - val_acc: 0.8390\n",
      "Epoch 158/200\n",
      "60000/60000 [==============================] - 2s 40us/step - loss: 0.0342 - acc: 0.8296 - val_loss: 0.0332 - val_acc: 0.8398\n",
      "Epoch 159/200\n",
      "60000/60000 [==============================] - 2s 29us/step - loss: 0.0340 - acc: 0.8306 - val_loss: 0.0330 - val_acc: 0.8410\n",
      "Epoch 160/200\n",
      "60000/60000 [==============================] - 2s 28us/step - loss: 0.0338 - acc: 0.8317 - val_loss: 0.0328 - val_acc: 0.8416\n",
      "Epoch 161/200\n",
      "60000/60000 [==============================] - 2s 27us/step - loss: 0.0336 - acc: 0.8327 - val_loss: 0.0326 - val_acc: 0.8420\n",
      "Epoch 162/200\n",
      "60000/60000 [==============================] - 2s 31us/step - loss: 0.0335 - acc: 0.8337 - val_loss: 0.0325 - val_acc: 0.8434\n",
      "Epoch 163/200\n",
      "60000/60000 [==============================] - 2s 30us/step - loss: 0.0333 - acc: 0.8347 - val_loss: 0.0323 - val_acc: 0.8443\n",
      "Epoch 164/200\n",
      "60000/60000 [==============================] - 2s 40us/step - loss: 0.0331 - acc: 0.8357 - val_loss: 0.0321 - val_acc: 0.8455\n",
      "Epoch 165/200\n",
      "60000/60000 [==============================] - 2s 30us/step - loss: 0.0330 - acc: 0.8368 - val_loss: 0.0320 - val_acc: 0.8462\n",
      "Epoch 166/200\n",
      "60000/60000 [==============================] - 2s 29us/step - loss: 0.0328 - acc: 0.8381 - val_loss: 0.0318 - val_acc: 0.8471\n",
      "Epoch 167/200\n",
      "60000/60000 [==============================] - 2s 30us/step - loss: 0.0326 - acc: 0.8387 - val_loss: 0.0316 - val_acc: 0.8486\n",
      "Epoch 168/200\n",
      "60000/60000 [==============================] - 2s 39us/step - loss: 0.0325 - acc: 0.8398 - val_loss: 0.0315 - val_acc: 0.8497\n",
      "Epoch 169/200\n",
      "60000/60000 [==============================] - 2s 29us/step - loss: 0.0323 - acc: 0.8406 - val_loss: 0.0313 - val_acc: 0.8506\n",
      "Epoch 170/200\n",
      "60000/60000 [==============================] - 2s 29us/step - loss: 0.0321 - acc: 0.8416 - val_loss: 0.0311 - val_acc: 0.8510\n",
      "Epoch 171/200\n",
      "60000/60000 [==============================] - 2s 29us/step - loss: 0.0320 - acc: 0.8424 - val_loss: 0.0310 - val_acc: 0.8516\n",
      "Epoch 172/200\n",
      "60000/60000 [==============================] - 2s 31us/step - loss: 0.0318 - acc: 0.8431 - val_loss: 0.0308 - val_acc: 0.8523\n",
      "Epoch 173/200\n",
      "60000/60000 [==============================] - 2s 35us/step - loss: 0.0317 - acc: 0.8436 - val_loss: 0.0307 - val_acc: 0.8530\n",
      "Epoch 174/200\n",
      "60000/60000 [==============================] - 2s 30us/step - loss: 0.0315 - acc: 0.8442 - val_loss: 0.0305 - val_acc: 0.8539\n",
      "Epoch 175/200\n",
      "60000/60000 [==============================] - 2s 29us/step - loss: 0.0314 - acc: 0.8452 - val_loss: 0.0304 - val_acc: 0.8549\n",
      "Epoch 176/200\n",
      "60000/60000 [==============================] - 2s 28us/step - loss: 0.0312 - acc: 0.8460 - val_loss: 0.0302 - val_acc: 0.8550\n",
      "Epoch 177/200\n",
      "60000/60000 [==============================] - 2s 38us/step - loss: 0.0311 - acc: 0.8467 - val_loss: 0.0301 - val_acc: 0.8558\n",
      "Epoch 178/200\n",
      "60000/60000 [==============================] - 3s 52us/step - loss: 0.0309 - acc: 0.8475 - val_loss: 0.0299 - val_acc: 0.8561\n",
      "Epoch 179/200\n",
      "60000/60000 [==============================] - 2s 40us/step - loss: 0.0308 - acc: 0.8483 - val_loss: 0.0298 - val_acc: 0.8567\n",
      "Epoch 180/200\n",
      "60000/60000 [==============================] - 2s 35us/step - loss: 0.0307 - acc: 0.8489 - val_loss: 0.0297 - val_acc: 0.8571\n",
      "Epoch 181/200\n",
      "60000/60000 [==============================] - 2s 31us/step - loss: 0.0305 - acc: 0.8496 - val_loss: 0.0295 - val_acc: 0.8578\n",
      "Epoch 182/200\n",
      "60000/60000 [==============================] - 2s 30us/step - loss: 0.0304 - acc: 0.8502 - val_loss: 0.0294 - val_acc: 0.8584\n",
      "Epoch 183/200\n",
      "60000/60000 [==============================] - 2s 32us/step - loss: 0.0303 - acc: 0.8506 - val_loss: 0.0292 - val_acc: 0.8590\n",
      "Epoch 184/200\n",
      "60000/60000 [==============================] - 2s 33us/step - loss: 0.0301 - acc: 0.8511 - val_loss: 0.0291 - val_acc: 0.8590\n",
      "Epoch 185/200\n",
      "60000/60000 [==============================] - 2s 32us/step - loss: 0.0300 - acc: 0.8518 - val_loss: 0.0290 - val_acc: 0.8590\n",
      "Epoch 186/200\n",
      "60000/60000 [==============================] - 2s 28us/step - loss: 0.0299 - acc: 0.8523 - val_loss: 0.0288 - val_acc: 0.8594\n",
      "Epoch 187/200\n",
      "60000/60000 [==============================] - 2s 27us/step - loss: 0.0297 - acc: 0.8526 - val_loss: 0.0287 - val_acc: 0.8599\n",
      "Epoch 188/200\n",
      "60000/60000 [==============================] - 2s 26us/step - loss: 0.0296 - acc: 0.8529 - val_loss: 0.0286 - val_acc: 0.8605\n",
      "Epoch 189/200\n",
      "60000/60000 [==============================] - 2s 31us/step - loss: 0.0295 - acc: 0.8534 - val_loss: 0.0285 - val_acc: 0.8609\n",
      "Epoch 190/200\n",
      "60000/60000 [==============================] - 2s 41us/step - loss: 0.0294 - acc: 0.8540 - val_loss: 0.0283 - val_acc: 0.8614\n",
      "Epoch 191/200\n",
      "60000/60000 [==============================] - 3s 44us/step - loss: 0.0292 - acc: 0.8544 - val_loss: 0.0282 - val_acc: 0.8617\n",
      "Epoch 192/200\n",
      "60000/60000 [==============================] - 2s 29us/step - loss: 0.0291 - acc: 0.8550 - val_loss: 0.0281 - val_acc: 0.8617\n",
      "Epoch 193/200\n",
      "60000/60000 [==============================] - 2s 27us/step - loss: 0.0290 - acc: 0.8555 - val_loss: 0.0280 - val_acc: 0.8624\n",
      "Epoch 194/200\n",
      "60000/60000 [==============================] - 2s 27us/step - loss: 0.0289 - acc: 0.8558 - val_loss: 0.0279 - val_acc: 0.8629\n",
      "Epoch 195/200\n",
      "60000/60000 [==============================] - 2s 27us/step - loss: 0.0288 - acc: 0.8564 - val_loss: 0.0277 - val_acc: 0.8633\n",
      "Epoch 196/200\n",
      "60000/60000 [==============================] - 2s 29us/step - loss: 0.0286 - acc: 0.8570 - val_loss: 0.0276 - val_acc: 0.8638\n",
      "Epoch 197/200\n",
      "60000/60000 [==============================] - 2s 28us/step - loss: 0.0285 - acc: 0.8574 - val_loss: 0.0275 - val_acc: 0.8640\n",
      "Epoch 198/200\n",
      "60000/60000 [==============================] - 2s 27us/step - loss: 0.0284 - acc: 0.8579 - val_loss: 0.0274 - val_acc: 0.8649\n",
      "Epoch 199/200\n",
      "60000/60000 [==============================] - 2s 41us/step - loss: 0.0283 - acc: 0.8585 - val_loss: 0.0273 - val_acc: 0.8656\n",
      "Epoch 200/200\n",
      "60000/60000 [==============================] - 2s 27us/step - loss: 0.0282 - acc: 0.8587 - val_loss: 0.0272 - val_acc: 0.8658\n"
     ]
    },
    {
     "data": {
      "text/plain": [
       "<keras.callbacks.History at 0x4967b00>"
      ]
     },
     "execution_count": 23,
     "metadata": {},
     "output_type": "execute_result"
    }
   ],
   "source": [
    "model.fit(X_train, y_train, batch_size=128, epochs=200, verbose=1, validation_data=(X_test, y_test))"
   ]
  },
  {
   "cell_type": "code",
   "execution_count": 24,
   "metadata": {},
   "outputs": [
    {
     "name": "stdout",
     "output_type": "stream",
     "text": [
      "10000/10000 [==============================] - 0s 43us/step\n"
     ]
    },
    {
     "data": {
      "text/plain": [
       "[0.02717633790373802, 0.8658]"
      ]
     },
     "execution_count": 24,
     "metadata": {},
     "output_type": "execute_result"
    }
   ],
   "source": [
    "model.evaluate(X_test, y_test)"
   ]
  },
  {
   "cell_type": "code",
   "execution_count": 25,
   "metadata": {
    "collapsed": true,
    "scrolled": true
   },
   "outputs": [],
   "source": [
    "import cv2"
   ]
  },
  {
   "cell_type": "code",
   "execution_count": 92,
   "metadata": {
    "collapsed": true
   },
   "outputs": [],
   "source": [
    "#test2 = cv2.imread(\"test2.jpg\")\n",
    "test2 = cv2.imread(\"test2.jpg\", cv2.cv2.IMREAD_GRAYSCALE)"
   ]
  },
  {
   "cell_type": "code",
   "execution_count": 93,
   "metadata": {},
   "outputs": [
    {
     "data": {
      "text/plain": [
       "784"
      ]
     },
     "execution_count": 93,
     "metadata": {},
     "output_type": "execute_result"
    }
   ],
   "source": [
    "test2.size"
   ]
  },
  {
   "cell_type": "code",
   "execution_count": 94,
   "metadata": {},
   "outputs": [
    {
     "data": {
      "text/plain": [
       "255"
      ]
     },
     "execution_count": 94,
     "metadata": {},
     "output_type": "execute_result"
    }
   ],
   "source": [
    "test2[1][2]\n",
    "#test2"
   ]
  },
  {
   "cell_type": "code",
   "execution_count": 95,
   "metadata": {},
   "outputs": [
    {
     "data": {
      "text/plain": [
       "(28, 28)"
      ]
     },
     "execution_count": 95,
     "metadata": {},
     "output_type": "execute_result"
    }
   ],
   "source": [
    "test2.shape"
   ]
  },
  {
   "cell_type": "code",
   "execution_count": 96,
   "metadata": {
    "collapsed": true
   },
   "outputs": [],
   "source": [
    "resized_image_test2 = cv2.resize(test2, (28, 28)) "
   ]
  },
  {
   "cell_type": "code",
   "execution_count": 97,
   "metadata": {},
   "outputs": [
    {
     "data": {
      "text/plain": [
       "784"
      ]
     },
     "execution_count": 97,
     "metadata": {},
     "output_type": "execute_result"
    }
   ],
   "source": [
    "resized_image_test2.size"
   ]
  },
  {
   "cell_type": "code",
   "execution_count": 102,
   "metadata": {},
   "outputs": [
    {
     "data": {
      "text/plain": [
       "(28, 28)"
      ]
     },
     "execution_count": 102,
     "metadata": {},
     "output_type": "execute_result"
    }
   ],
   "source": [
    "resized_image_test2.shape"
   ]
  },
  {
   "cell_type": "code",
   "execution_count": 112,
   "metadata": {},
   "outputs": [
    {
     "data": {
      "text/plain": [
       "array([[[255, 255, 255],\n",
       "        [255, 255, 255],\n",
       "        [255, 255, 255],\n",
       "        ...,\n",
       "        [255, 255, 255],\n",
       "        [255, 255, 255],\n",
       "        [255, 255, 255]],\n",
       "\n",
       "       [[255, 255, 255],\n",
       "        [255, 255, 255],\n",
       "        [255, 255, 255],\n",
       "        ...,\n",
       "        [255, 255, 255],\n",
       "        [255, 255, 255],\n",
       "        [255, 255, 255]],\n",
       "\n",
       "       [[255, 255, 255],\n",
       "        [255, 255, 255],\n",
       "        [255, 255, 255],\n",
       "        ...,\n",
       "        [255, 255, 255],\n",
       "        [255, 255, 255],\n",
       "        [255, 255, 255]],\n",
       "\n",
       "       ...,\n",
       "\n",
       "       [[254, 254, 254],\n",
       "        [255, 255, 255],\n",
       "        [255, 255, 255],\n",
       "        ...,\n",
       "        [254, 254, 254],\n",
       "        [253, 253, 253],\n",
       "        [250, 250, 250]],\n",
       "\n",
       "       [[254, 254, 254],\n",
       "        [254, 254, 254],\n",
       "        [252, 252, 252],\n",
       "        ...,\n",
       "        [145, 145, 145],\n",
       "        [252, 252, 252],\n",
       "        [255, 255, 255]],\n",
       "\n",
       "       [[255, 255, 255],\n",
       "        [255, 255, 255],\n",
       "        [255, 255, 255],\n",
       "        ...,\n",
       "        [217, 217, 217],\n",
       "        [251, 251, 251],\n",
       "        [254, 254, 254]]], dtype=uint8)"
      ]
     },
     "execution_count": 112,
     "metadata": {},
     "output_type": "execute_result"
    }
   ],
   "source": [
    "resized_image"
   ]
  },
  {
   "cell_type": "code",
   "execution_count": 113,
   "metadata": {},
   "outputs": [
    {
     "data": {
      "text/plain": [
       "array([252, 252, 252], dtype=uint8)"
      ]
     },
     "execution_count": 113,
     "metadata": {},
     "output_type": "execute_result"
    }
   ],
   "source": [
    "resized_image[15][16]"
   ]
  },
  {
   "cell_type": "code",
   "execution_count": 121,
   "metadata": {},
   "outputs": [
    {
     "data": {
      "text/plain": [
       "784"
      ]
     },
     "execution_count": 121,
     "metadata": {},
     "output_type": "execute_result"
    }
   ],
   "source": [
    "28*28"
   ]
  },
  {
   "cell_type": "code",
   "execution_count": 37,
   "metadata": {
    "collapsed": true
   },
   "outputs": [],
   "source": [
    "#newimage = np.resize(x, [28,28])"
   ]
  },
  {
   "cell_type": "code",
   "execution_count": 91,
   "metadata": {
    "collapsed": true
   },
   "outputs": [],
   "source": [
    "#newimage"
   ]
  },
  {
   "cell_type": "code",
   "execution_count": 109,
   "metadata": {
    "collapsed": true
   },
   "outputs": [],
   "source": [
    "def myfunc(z):\n",
    "    return abs(z-255)\n",
    "#a = np.zeros(shape=(28,28))"
   ]
  },
  {
   "cell_type": "code",
   "execution_count": 110,
   "metadata": {},
   "outputs": [
    {
     "data": {
      "text/plain": [
       "(28, 28)"
      ]
     },
     "execution_count": 110,
     "metadata": {},
     "output_type": "execute_result"
    }
   ],
   "source": [
    "a.shape"
   ]
  },
  {
   "cell_type": "code",
   "execution_count": 111,
   "metadata": {},
   "outputs": [
    {
     "data": {
      "text/plain": [
       "array([[0., 0., 0., 0., 0., 0., 0., 0., 0., 0., 0., 0., 0., 0., 0., 0.,\n",
       "        0., 0., 0., 0., 0., 0., 0., 0., 0., 0., 0., 0.],\n",
       "       [0., 0., 0., 0., 0., 0., 0., 0., 0., 0., 0., 0., 0., 0., 0., 0.,\n",
       "        0., 0., 0., 0., 0., 0., 0., 0., 0., 0., 0., 0.],\n",
       "       [0., 0., 0., 0., 0., 0., 0., 0., 0., 0., 0., 0., 0., 0., 0., 0.,\n",
       "        0., 0., 0., 0., 0., 0., 0., 0., 0., 0., 0., 0.],\n",
       "       [0., 0., 0., 0., 0., 0., 0., 0., 0., 0., 0., 0., 0., 0., 0., 0.,\n",
       "        0., 0., 0., 0., 0., 0., 0., 0., 0., 0., 0., 0.],\n",
       "       [0., 0., 0., 0., 0., 0., 0., 0., 0., 0., 0., 0., 0., 0., 0., 0.,\n",
       "        0., 0., 0., 0., 0., 0., 0., 0., 0., 0., 0., 0.],\n",
       "       [0., 0., 0., 0., 0., 0., 0., 0., 0., 0., 0., 0., 0., 0., 0., 0.,\n",
       "        0., 0., 0., 0., 0., 0., 0., 0., 0., 0., 0., 0.],\n",
       "       [0., 0., 0., 0., 0., 0., 0., 0., 0., 0., 0., 0., 0., 0., 0., 0.,\n",
       "        0., 0., 0., 0., 0., 0., 0., 0., 0., 0., 0., 0.],\n",
       "       [0., 0., 0., 0., 0., 0., 0., 0., 0., 0., 0., 0., 0., 0., 0., 0.,\n",
       "        0., 0., 0., 0., 0., 0., 0., 0., 0., 0., 0., 0.],\n",
       "       [0., 0., 0., 0., 0., 0., 0., 0., 0., 0., 0., 0., 0., 0., 0., 0.,\n",
       "        0., 0., 0., 0., 0., 0., 0., 0., 0., 0., 0., 0.],\n",
       "       [0., 0., 0., 0., 0., 0., 0., 0., 0., 0., 0., 0., 0., 0., 0., 0.,\n",
       "        0., 0., 0., 0., 0., 0., 0., 0., 0., 0., 0., 0.],\n",
       "       [0., 0., 0., 0., 0., 0., 0., 0., 0., 0., 0., 0., 0., 0., 0., 0.,\n",
       "        0., 0., 0., 0., 0., 0., 0., 0., 0., 0., 0., 0.],\n",
       "       [0., 0., 0., 0., 0., 0., 0., 0., 0., 0., 0., 0., 0., 0., 0., 0.,\n",
       "        0., 0., 0., 0., 0., 0., 0., 0., 0., 0., 0., 0.],\n",
       "       [0., 0., 0., 0., 0., 0., 0., 0., 0., 0., 0., 0., 0., 0., 0., 0.,\n",
       "        0., 0., 0., 0., 0., 0., 0., 0., 0., 0., 0., 0.],\n",
       "       [0., 0., 0., 0., 0., 0., 0., 0., 0., 0., 0., 0., 0., 0., 0., 0.,\n",
       "        0., 0., 0., 0., 0., 0., 0., 0., 0., 0., 0., 0.],\n",
       "       [0., 0., 0., 0., 0., 0., 0., 0., 0., 0., 0., 0., 0., 0., 0., 0.,\n",
       "        0., 0., 0., 0., 0., 0., 0., 0., 0., 0., 0., 0.],\n",
       "       [0., 0., 0., 0., 0., 0., 0., 0., 0., 0., 0., 0., 0., 0., 0., 0.,\n",
       "        0., 0., 0., 0., 0., 0., 0., 0., 0., 0., 0., 0.],\n",
       "       [0., 0., 0., 0., 0., 0., 0., 0., 0., 0., 0., 0., 0., 0., 0., 0.,\n",
       "        0., 0., 0., 0., 0., 0., 0., 0., 0., 0., 0., 0.],\n",
       "       [0., 0., 0., 0., 0., 0., 0., 0., 0., 0., 0., 0., 0., 0., 0., 0.,\n",
       "        0., 0., 0., 0., 0., 0., 0., 0., 0., 0., 0., 0.],\n",
       "       [0., 0., 0., 0., 0., 0., 0., 0., 0., 0., 0., 0., 0., 0., 0., 0.,\n",
       "        0., 0., 0., 0., 0., 0., 0., 0., 0., 0., 0., 0.],\n",
       "       [0., 0., 0., 0., 0., 0., 0., 0., 0., 0., 0., 0., 0., 0., 0., 0.,\n",
       "        0., 0., 0., 0., 0., 0., 0., 0., 0., 0., 0., 0.],\n",
       "       [0., 0., 0., 0., 0., 0., 0., 0., 0., 0., 0., 0., 0., 0., 0., 0.,\n",
       "        0., 0., 0., 0., 0., 0., 0., 0., 0., 0., 0., 0.],\n",
       "       [0., 0., 0., 0., 0., 0., 0., 0., 0., 0., 0., 0., 0., 0., 0., 0.,\n",
       "        0., 0., 0., 0., 0., 0., 0., 0., 0., 0., 0., 0.],\n",
       "       [0., 0., 0., 0., 0., 0., 0., 0., 0., 0., 0., 0., 0., 0., 0., 0.,\n",
       "        0., 0., 0., 0., 0., 0., 0., 0., 0., 0., 0., 0.],\n",
       "       [0., 0., 0., 0., 0., 0., 0., 0., 0., 0., 0., 0., 0., 0., 0., 0.,\n",
       "        0., 0., 0., 0., 0., 0., 0., 0., 0., 0., 0., 0.],\n",
       "       [0., 0., 0., 0., 0., 0., 0., 0., 0., 0., 0., 0., 0., 0., 0., 0.,\n",
       "        0., 0., 0., 0., 0., 0., 0., 0., 0., 0., 0., 0.],\n",
       "       [0., 0., 0., 0., 0., 0., 0., 0., 0., 0., 0., 0., 0., 0., 0., 0.,\n",
       "        0., 0., 0., 0., 0., 0., 0., 0., 0., 0., 0., 0.],\n",
       "       [0., 0., 0., 0., 0., 0., 0., 0., 0., 0., 0., 0., 0., 0., 0., 0.,\n",
       "        0., 0., 0., 0., 0., 0., 0., 0., 0., 0., 0., 0.],\n",
       "       [0., 0., 0., 0., 0., 0., 0., 0., 0., 0., 0., 0., 0., 0., 0., 0.,\n",
       "        0., 0., 0., 0., 0., 0., 0., 0., 0., 0., 0., 0.]])"
      ]
     },
     "execution_count": 111,
     "metadata": {},
     "output_type": "execute_result"
    }
   ],
   "source": [
    "a"
   ]
  },
  {
   "cell_type": "code",
   "execution_count": 114,
   "metadata": {},
   "outputs": [
    {
     "ename": "NameError",
     "evalue": "name 'face' is not defined",
     "output_type": "error",
     "traceback": [
      "\u001b[1;31m---------------------------------------------------------------------------\u001b[0m",
      "\u001b[1;31mNameError\u001b[0m                                 Traceback (most recent call last)",
      "\u001b[1;32m<ipython-input-114-2bd45e9aeaac>\u001b[0m in \u001b[0;36m<module>\u001b[1;34m()\u001b[0m\n\u001b[0;32m      1\u001b[0m \u001b[1;31m#resized_image = resized_image.astype(np.int16)\u001b[0m\u001b[1;33m\u001b[0m\u001b[1;33m\u001b[0m\u001b[0m\n\u001b[0;32m      2\u001b[0m \u001b[0mmyfunc\u001b[0m \u001b[1;33m=\u001b[0m \u001b[0mnp\u001b[0m\u001b[1;33m.\u001b[0m\u001b[0mvectorize\u001b[0m\u001b[1;33m(\u001b[0m\u001b[0mmyfunc\u001b[0m\u001b[1;33m,\u001b[0m \u001b[0motypes\u001b[0m\u001b[1;33m=\u001b[0m\u001b[1;33m[\u001b[0m\u001b[0mnp\u001b[0m\u001b[1;33m.\u001b[0m\u001b[0mfloat\u001b[0m\u001b[1;33m]\u001b[0m\u001b[1;33m)\u001b[0m\u001b[1;33m\u001b[0m\u001b[0m\n\u001b[1;32m----> 3\u001b[1;33m \u001b[0mnewA\u001b[0m \u001b[1;33m=\u001b[0m \u001b[0mface\u001b[0m\u001b[1;33m.\u001b[0m\u001b[0mastype\u001b[0m\u001b[1;33m(\u001b[0m\u001b[0mnp\u001b[0m\u001b[1;33m.\u001b[0m\u001b[0mint16\u001b[0m\u001b[1;33m)\u001b[0m\u001b[1;33m\u001b[0m\u001b[0m\n\u001b[0m\u001b[0;32m      4\u001b[0m \u001b[0mresult\u001b[0m \u001b[1;33m=\u001b[0m \u001b[0mmyfunc_vec\u001b[0m\u001b[1;33m(\u001b[0m\u001b[0mresized_image_test2\u001b[0m\u001b[1;33m)\u001b[0m\u001b[1;33m\u001b[0m\u001b[0m\n\u001b[0;32m      5\u001b[0m \u001b[1;31m#result = myfunc_vec(resized_image_test2)\u001b[0m\u001b[1;33m\u001b[0m\u001b[1;33m\u001b[0m\u001b[0m\n",
      "\u001b[1;31mNameError\u001b[0m: name 'face' is not defined"
     ]
    }
   ],
   "source": [
    "#resized_image = resized_image.astype(np.int16)\n",
    "myfunc = np.vectorize(myfunc, otypes=[np.float])\n",
    "newA = face.astype(np.int16)\n",
    "result = myfunc_vec(resized_image_test2)\n",
    "#result = myfunc_vec(resized_image_test2)\n",
    "result.size\n"
   ]
  },
  {
   "cell_type": "code",
   "execution_count": 115,
   "metadata": {},
   "outputs": [
    {
     "data": {
      "text/plain": [
       "array([[  0,   0,   0,   0,   0,   0,   0,   0,   1,   0,   0,   0,   0,\n",
       "          1,  36,  96, 102,  73,   1,   0,   0,   3,   0,   0,   0,   0,\n",
       "          0,   0],\n",
       "       [  0,   0,   0,   0,   0,   0,   0,   0,   0,   0,   0, 106, 129,\n",
       "        143,  84,  34,  20, 244,   0,   6,   1,   0,   4,   0,   0,   0,\n",
       "          0,   0],\n",
       "       [  0,   0,   0,   0,   0,   0,   0,   0,   4,   0, 120,   1,   4,\n",
       "          3,   0,   2,   0, 138,  73,   0,   0,   2,   0,   0,   0,   0,\n",
       "          0,   0],\n",
       "       [  0,   0,   0,   0,   0,   0,   0,   0,   0, 101,   3,   1,   0,\n",
       "          1,   3,   0,   0,  17, 242,   1,   0,   0,   3,   0,   0,   0,\n",
       "          0,   0],\n",
       "       [  0,   0,   0,   0,   0,   0,   0,   0,   0, 167,   0,   1,   5,\n",
       "          0,   4,   0,   3,   0, 208,   8,   0,   2,   0,   0,   0,   0,\n",
       "          0,   0],\n",
       "       [  0,   0,   0,   0,   0,   0,   0,   0,  10,  21,   0,   0,   0,\n",
       "          1,   0,   4,   0,   3,  94, 126,   2,   1,   0,   2,   0,   0,\n",
       "          0,   0],\n",
       "       [  0,   0,   0,   0,   0,   0,   0,   0,   0,   1,   0,   5,   0,\n",
       "          4,   3,   0,   0,   1,  14, 133,   3,   0,   1,   1,   0,   0,\n",
       "          0,   0],\n",
       "       [  0,   0,   0,   0,   0,   0,   0,   0,   0,   1,   0,   0,   2,\n",
       "          0,   0,   2,   1,   0,  84,   1,   0,   2,   0,   0,   0,   0,\n",
       "          0,   0],\n",
       "       [  0,   0,   1,   0,   0,   3,   0,   1,   4,   0,   0,   0,   1,\n",
       "          0,   3,   0,  68, 114,   0,   3,   0,   0,   0,   0,   0,   0,\n",
       "          0,   0],\n",
       "       [  0,   4,   0,   4,   0,   0,   0,   1,   0,   0,   1,   3,   0,\n",
       "          1,  35, 105,  11,   0,   0,   2,   0,   2,   2,   0,   0,   0,\n",
       "          0,   0],\n",
       "       [  0,   0,   0,   0,   0,   1,   4,   0,   3,   2,   1,   0,  89,\n",
       "        113,  54,   0,   4,   0,   4,   1,   3,   0,   1,   0,   0,   0,\n",
       "          0,   0],\n",
       "       [  0,   3,   3,   0,   1,   0,   0,   2,   1,  52, 124, 120,  16,\n",
       "          0,   0,   3,   0,   1,   0,   0,   0,   1,   2,   0,   0,   0,\n",
       "          0,   0],\n",
       "       [  0,   3,   6, 119, 143, 166, 154, 152, 125,  46,   0,   0,   0,\n",
       "          4,   2,   0,   3,   0,   3,   1,   2,   1,   0,   0,   0,   0,\n",
       "          0,   0],\n",
       "       [  1,   8,  87,   8,   1,   0,   0,   0,   1,   1,   0,   0,   3,\n",
       "          0,   1,   1,   0,   5,   0,   0,   5,   0,   0,   4,   0,   0,\n",
       "          0,   0],\n",
       "       [  3, 182,   4,   0,   0,   2,   2,   0,   0,   0,   1,   2,   0,\n",
       "          0,   2,   0,   0,   0,   2,   2,   0,   3,   0,   0,   0,   0,\n",
       "          0,   0],\n",
       "       [  0, 160,   0,   2,   0,   1,   0,   0,   1,   0,   0,   0,   3,\n",
       "          0,   0,   0,   3,   0,   2,   0,   2,   0,   0,   0,   0,   0,\n",
       "          0,   0],\n",
       "       [  1, 178,   0,   1,   1,   0,   0,   0,   0,   0,   0,   0,   0,\n",
       "          0,   0,   0,   0,   0,   0,   0,   0,   0,   0,   0,   0,   0,\n",
       "          0,   0],\n",
       "       [  0, 187,   1,   0,   2,   0,   0,   4,   0,   0,   0,   0,   0,\n",
       "          0,   0,   0,   0,   0,   0,   0,   0,   0,   0,   0,   0,   0,\n",
       "          0,   0],\n",
       "       [  1, 215,   0,   1,   0,   0,   8,   0,   0,   0,   0,   0,   0,\n",
       "          0,   0,   0,   0,   0,   0,   0,   0,   0,   0,   0,   0,   0,\n",
       "          0,   0],\n",
       "       [  0, 203,  34,   0,   2,   4,   0,   0,   0,   0,   0,   0,   0,\n",
       "          0,   0,   0,   0,   0,   0,   0,   0,   0,   0,   0,   0,   0,\n",
       "          0,   0],\n",
       "       [  0,  46, 188,   0,   2,   0,   0,   3,   0,   0,   0,   0,   0,\n",
       "          0,   0,   0,   0,   0,   0,   0,   0,   0,   0,   0,   0,   0,\n",
       "          0,   0],\n",
       "       [  2,   0, 246,   3,   1,   0,   2,   0,   0,   0,   0,   0,   0,\n",
       "          0,   0,   0,   0,   0,   0,   0,   0,   0,   0,   0,   0,   0,\n",
       "          0,   0],\n",
       "       [  0,   0, 123,  72,   0,   2,   1,   0,   0,   0,   0,   0,   0,\n",
       "          0,   0,   0,   0,   0,   0,   0,   0,   0,   0,   0,   0,   0,\n",
       "          0,   0],\n",
       "       [  2,   0,  10, 255,   1,   0,   0,   1,   0,   0,   0,   0,   0,\n",
       "          0,   0,   0,   0,   0,   0,   0,   0,   0,   0,   0,   0,   0,\n",
       "          0,   0],\n",
       "       [  0,   2,   1,  62, 255,   0,   1,   0,   0,   0,   3,   0,   0,\n",
       "          0,   2,   0,   0,   4,   0,   0,   1,   0,   1,   1,   3,   0,\n",
       "          0,   0],\n",
       "       [  1,   0,   0,   3,  43, 192, 230, 148,  77,  27,  43, 122, 144,\n",
       "        143, 149, 164, 159, 137, 163, 161, 188, 205, 136, 110,   6,   1,\n",
       "          2,   5],\n",
       "       [  1,   1,   3,   0,   0,   0,   0,  32, 104, 119,  79,  11,   4,\n",
       "          2,   0,   0,   2,   0,   1,   0,   2,   0,  13,  76, 217, 110,\n",
       "          3,   0],\n",
       "       [  0,   0,   0,   0,   3,   5,   0,   0,   0,   1,   0,   0,   0,\n",
       "          1,   0,   1,   0,   0,   0,   1,   1,   0,   0,   0,   9,  38,\n",
       "          4,   1]])"
      ]
     },
     "execution_count": 115,
     "metadata": {},
     "output_type": "execute_result"
    }
   ],
   "source": [
    "result"
   ]
  },
  {
   "cell_type": "code",
   "execution_count": 116,
   "metadata": {},
   "outputs": [
    {
     "data": {
      "text/plain": [
       "array([[0.034386  , 0.04096843, 0.00063885, 0.01396213, 0.00208418,\n",
       "        0.10228583, 0.00862515, 0.44929332, 0.00804095, 0.33971515]],\n",
       "      dtype=float32)"
      ]
     },
     "execution_count": 116,
     "metadata": {},
     "output_type": "execute_result"
    }
   ],
   "source": [
    "result.shape\n",
    "reshapedimg = result.reshape(1, 784).astype('float32')\n",
    "\n",
    "model.predict(reshapedimg)\n"
   ]
  },
  {
   "cell_type": "code",
   "execution_count": 122,
   "metadata": {},
   "outputs": [
    {
     "data": {
      "text/plain": [
       "array([[217, 219, 217, 219, 221, 219, 222, 219, 220, 218, 217, 217, 218,\n",
       "        219, 217, 221, 221, 222, 221, 221, 223, 220, 216, 222, 218, 217,\n",
       "        218, 219],\n",
       "       [217, 218, 220, 215, 219, 221, 222, 222, 218, 218, 216, 217, 222,\n",
       "        221, 219, 219, 216, 221, 218, 222, 220, 217, 221, 218, 216, 213,\n",
       "        218, 217],\n",
       "       [219, 216, 217, 219, 218, 219, 220, 219, 219, 218, 215, 219, 221,\n",
       "        220, 219, 224, 218, 219, 219, 224, 221, 220, 217, 219, 221, 218,\n",
       "        221, 219],\n",
       "       [219, 219, 219, 218, 218, 220, 221, 221, 218, 218, 219, 219, 218,\n",
       "        221, 221, 218, 217, 218, 216, 219, 219, 221, 219, 219, 221, 219,\n",
       "        219, 222],\n",
       "       [220, 219, 220, 221, 217, 219, 222, 219, 220, 218, 217, 217, 215,\n",
       "        220, 218, 219, 218, 217, 218, 217, 218, 217, 226, 218, 222, 219,\n",
       "        220, 221],\n",
       "       [216, 217, 219, 217, 217, 217, 219, 219, 218, 218, 219, 220, 220,\n",
       "        220, 220, 218, 220, 220, 216, 219, 219, 221, 221, 219, 223, 218,\n",
       "        219, 220],\n",
       "       [219, 220, 218, 219, 217, 218, 219, 218, 218, 219, 216, 220, 220,\n",
       "        215, 218, 217, 219, 216, 218, 216, 222, 219, 219, 216, 219, 219,\n",
       "        220, 218],\n",
       "       [218, 218, 218, 221, 216, 218, 222, 217, 218, 216, 217, 217, 215,\n",
       "        220, 219, 185, 205, 225, 218, 218, 217, 220, 216, 220, 218, 219,\n",
       "        217, 218],\n",
       "       [217, 218, 215, 219, 218, 219, 216, 218, 215, 219, 183, 218, 219,\n",
       "        218, 218, 200, 194, 220, 219, 217, 217, 219, 219, 217, 221, 220,\n",
       "        219, 220],\n",
       "       [220, 220, 218, 219, 217, 219, 216, 217, 218, 220, 108, 219, 217,\n",
       "        219, 218, 193, 149, 218, 216, 220, 215, 221, 216, 215, 219, 220,\n",
       "        220, 219],\n",
       "       [218, 219, 215, 220, 220, 218, 219, 216, 218, 222, 140, 215, 217,\n",
       "        217, 222, 178, 167, 218, 217, 218, 217, 215, 213, 217, 212, 220,\n",
       "        221, 218],\n",
       "       [216, 218, 219, 218, 219, 219, 219, 217, 216, 207, 152, 218, 221,\n",
       "        220, 219, 158, 156, 219, 220, 217, 218, 221, 219, 214, 219, 219,\n",
       "        218, 218],\n",
       "       [214, 219, 218, 220, 217, 217, 220, 215, 217, 170, 204, 216, 218,\n",
       "        213, 216, 152, 177, 218, 219, 223, 219, 218, 219, 219, 223, 218,\n",
       "        219, 218],\n",
       "       [218, 216, 217, 216, 219, 222, 221, 220, 220, 152, 218, 225, 217,\n",
       "        219, 217, 135, 127, 219, 220, 220, 217, 216, 219, 218, 218, 219,\n",
       "        219, 220],\n",
       "       [217, 218, 218, 220, 219, 217, 215, 216, 217, 220, 218, 217, 219,\n",
       "        214, 215, 151, 157, 220, 221, 220, 219, 218, 219, 219, 220, 219,\n",
       "        221, 218],\n",
       "       [220, 215, 218, 218, 217, 220, 214, 217, 219, 219, 217, 218, 215,\n",
       "        220, 218, 144, 148, 217, 219, 217, 221, 222, 217, 218, 216, 218,\n",
       "        217, 216],\n",
       "       [221, 219, 218, 219, 212, 217, 215, 218, 217, 216, 221, 217, 218,\n",
       "        217, 216, 193, 154, 221, 218, 219, 218, 216, 218, 218, 213, 215,\n",
       "        217, 219],\n",
       "       [214, 217, 216, 218, 217, 215, 218, 218, 217, 219, 218, 221, 219,\n",
       "        219, 221, 200, 164, 219, 221, 219, 220, 220, 218, 218, 217, 217,\n",
       "        219, 218],\n",
       "       [218, 217, 218, 217, 217, 218, 219, 218, 217, 219, 218, 216, 219,\n",
       "        218, 221, 214, 139, 217, 219, 220, 218, 217, 217, 218, 219, 219,\n",
       "        215, 218],\n",
       "       [216, 218, 218, 219, 218, 219, 215, 218, 220, 215, 216, 217, 216,\n",
       "        217, 221, 222, 158, 217, 221, 219, 217, 219, 218, 219, 217, 218,\n",
       "        218, 216],\n",
       "       [219, 217, 215, 218, 218, 220, 217, 219, 218, 220, 217, 218, 220,\n",
       "        217, 221, 222, 172, 219, 219, 217, 218, 220, 219, 218, 214, 218,\n",
       "        215, 218],\n",
       "       [217, 217, 218, 218, 217, 218, 214, 214, 214, 216, 214, 217, 219,\n",
       "        218, 219, 217, 184, 210, 216, 218, 220, 219, 219, 217, 218, 218,\n",
       "        218, 219],\n",
       "       [217, 219, 216, 218, 220, 217, 214, 215, 215, 218, 218, 216, 218,\n",
       "        215, 218, 216, 216, 216, 218, 217, 216, 219, 216, 218, 220, 220,\n",
       "        218, 217],\n",
       "       [221, 217, 220, 217, 217, 220, 218, 217, 218, 217, 218, 217, 217,\n",
       "        218, 218, 217, 214, 215, 215, 215, 215, 212, 218, 214, 221, 217,\n",
       "        215, 217],\n",
       "       [212, 217, 218, 214, 218, 216, 216, 217, 216, 219, 214, 221, 212,\n",
       "        217, 214, 218, 216, 219, 216, 212, 217, 218, 218, 218, 218, 218,\n",
       "        217, 218],\n",
       "       [217, 218, 219, 214, 213, 215, 216, 218, 217, 219, 217, 219, 214,\n",
       "        219, 216, 217, 215, 213, 218, 219, 220, 219, 220, 219, 221, 221,\n",
       "        219, 219],\n",
       "       [218, 217, 212, 215, 217, 215, 214, 216, 218, 215, 217, 217, 216,\n",
       "        217, 218, 214, 216, 215, 216, 219, 217, 218, 218, 218, 221, 218,\n",
       "        217, 216],\n",
       "       [214, 219, 215, 217, 216, 218, 218, 214, 213, 214, 215, 216, 217,\n",
       "        217, 220, 218, 215, 218, 213, 218, 217, 218, 219, 219, 219, 218,\n",
       "        219, 217]], dtype=uint8)"
      ]
     },
     "execution_count": 122,
     "metadata": {},
     "output_type": "execute_result"
    }
   ],
   "source": [
    "test4 = cv2.imread(\"test4better.jpg\", cv2.cv2.IMREAD_GRAYSCALE)\n",
    "test4 = cv2.resize(test4, (28, 28)) \n",
    "test4.shape\n",
    "test4"
   ]
  },
  {
   "cell_type": "code",
   "execution_count": 125,
   "metadata": {
    "collapsed": true
   },
   "outputs": [],
   "source": [
    "result = myfunc_vec(test4)\n",
    "reshapedimg = result.reshape(1, 784).astype('float32')\n",
    "reshapedimg /= 255"
   ]
  },
  {
   "cell_type": "code",
   "execution_count": 126,
   "metadata": {},
   "outputs": [
    {
     "data": {
      "text/plain": [
       "array([[0.14901961, 0.14117648, 0.14901961, 0.14117648, 0.13333334,\n",
       "        0.14117648, 0.12941177, 0.14117648, 0.13725491, 0.14509805,\n",
       "        0.14901961, 0.14901961, 0.14509805, 0.14117648, 0.14901961,\n",
       "        0.13333334, 0.13333334, 0.12941177, 0.13333334, 0.13333334,\n",
       "        0.1254902 , 0.13725491, 0.15294118, 0.12941177, 0.14509805,\n",
       "        0.14901961, 0.14509805, 0.14117648, 0.14901961, 0.14509805,\n",
       "        0.13725491, 0.15686275, 0.14117648, 0.13333334, 0.12941177,\n",
       "        0.12941177, 0.14509805, 0.14509805, 0.15294118, 0.14901961,\n",
       "        0.12941177, 0.13333334, 0.14117648, 0.14117648, 0.15294118,\n",
       "        0.13333334, 0.14509805, 0.12941177, 0.13725491, 0.14901961,\n",
       "        0.13333334, 0.14509805, 0.15294118, 0.16470589, 0.14509805,\n",
       "        0.14901961, 0.14117648, 0.15294118, 0.14901961, 0.14117648,\n",
       "        0.14509805, 0.14117648, 0.13725491, 0.14117648, 0.14117648,\n",
       "        0.14509805, 0.15686275, 0.14117648, 0.13333334, 0.13725491,\n",
       "        0.14117648, 0.12156863, 0.14509805, 0.14117648, 0.14117648,\n",
       "        0.12156863, 0.13333334, 0.13725491, 0.14901961, 0.14117648,\n",
       "        0.13333334, 0.14509805, 0.13333334, 0.14117648, 0.14117648,\n",
       "        0.14117648, 0.14117648, 0.14509805, 0.14509805, 0.13725491,\n",
       "        0.13333334, 0.13333334, 0.14509805, 0.14509805, 0.14117648,\n",
       "        0.14117648, 0.14509805, 0.13333334, 0.13333334, 0.14509805,\n",
       "        0.14901961, 0.14509805, 0.15294118, 0.14117648, 0.14117648,\n",
       "        0.13333334, 0.14117648, 0.14117648, 0.13333334, 0.14117648,\n",
       "        0.14117648, 0.12941177, 0.13725491, 0.14117648, 0.13725491,\n",
       "        0.13333334, 0.14901961, 0.14117648, 0.12941177, 0.14117648,\n",
       "        0.13725491, 0.14509805, 0.14901961, 0.14901961, 0.15686275,\n",
       "        0.13725491, 0.14509805, 0.14117648, 0.14509805, 0.14901961,\n",
       "        0.14509805, 0.14901961, 0.14509805, 0.14901961, 0.11372549,\n",
       "        0.14509805, 0.12941177, 0.14117648, 0.13725491, 0.13333334,\n",
       "        0.15294118, 0.14901961, 0.14117648, 0.14901961, 0.14901961,\n",
       "        0.14901961, 0.14117648, 0.14117648, 0.14509805, 0.14509805,\n",
       "        0.14117648, 0.13725491, 0.13725491, 0.13725491, 0.13725491,\n",
       "        0.14509805, 0.13725491, 0.13725491, 0.15294118, 0.14117648,\n",
       "        0.14117648, 0.13333334, 0.13333334, 0.14117648, 0.1254902 ,\n",
       "        0.14509805, 0.14117648, 0.13725491, 0.14117648, 0.13725491,\n",
       "        0.14509805, 0.14117648, 0.14901961, 0.14509805, 0.14117648,\n",
       "        0.14509805, 0.14509805, 0.14117648, 0.15294118, 0.13725491,\n",
       "        0.13725491, 0.15686275, 0.14509805, 0.14901961, 0.14117648,\n",
       "        0.15294118, 0.14509805, 0.15294118, 0.12941177, 0.14117648,\n",
       "        0.14117648, 0.15294118, 0.14117648, 0.14117648, 0.13725491,\n",
       "        0.14509805, 0.14509805, 0.14509805, 0.14509805, 0.13333334,\n",
       "        0.15294118, 0.14509805, 0.12941177, 0.14901961, 0.14509805,\n",
       "        0.15294118, 0.14901961, 0.14901961, 0.15686275, 0.13725491,\n",
       "        0.14117648, 0.27450982, 0.19607843, 0.11764706, 0.14509805,\n",
       "        0.14509805, 0.14901961, 0.13725491, 0.15294118, 0.13725491,\n",
       "        0.14509805, 0.14117648, 0.14901961, 0.14509805, 0.14901961,\n",
       "        0.14509805, 0.15686275, 0.14117648, 0.14509805, 0.14117648,\n",
       "        0.15294118, 0.14509805, 0.15686275, 0.14117648, 0.28235295,\n",
       "        0.14509805, 0.14117648, 0.14509805, 0.14509805, 0.21568628,\n",
       "        0.23921569, 0.13725491, 0.14117648, 0.14901961, 0.14901961,\n",
       "        0.14117648, 0.14117648, 0.14901961, 0.13333334, 0.13725491,\n",
       "        0.14117648, 0.13725491, 0.13725491, 0.13725491, 0.14509805,\n",
       "        0.14117648, 0.14901961, 0.14117648, 0.15294118, 0.14901961,\n",
       "        0.14509805, 0.13725491, 0.5764706 , 0.14117648, 0.14901961,\n",
       "        0.14117648, 0.14509805, 0.24313726, 0.41568628, 0.14509805,\n",
       "        0.15294118, 0.13725491, 0.15686275, 0.13333334, 0.15294118,\n",
       "        0.15686275, 0.14117648, 0.13725491, 0.13725491, 0.14117648,\n",
       "        0.14509805, 0.14117648, 0.15686275, 0.13725491, 0.13725491,\n",
       "        0.14509805, 0.14117648, 0.15294118, 0.14509805, 0.12941177,\n",
       "        0.4509804 , 0.15686275, 0.14901961, 0.14901961, 0.12941177,\n",
       "        0.3019608 , 0.34509805, 0.14509805, 0.14901961, 0.14509805,\n",
       "        0.14901961, 0.15686275, 0.16470589, 0.14901961, 0.16862746,\n",
       "        0.13725491, 0.13333334, 0.14509805, 0.15294118, 0.14509805,\n",
       "        0.14117648, 0.14509805, 0.14117648, 0.14117648, 0.14117648,\n",
       "        0.14901961, 0.15294118, 0.1882353 , 0.40392157, 0.14509805,\n",
       "        0.13333334, 0.13725491, 0.14117648, 0.38039216, 0.3882353 ,\n",
       "        0.14117648, 0.13725491, 0.14901961, 0.14509805, 0.13333334,\n",
       "        0.14117648, 0.16078432, 0.14117648, 0.14117648, 0.14509805,\n",
       "        0.14509805, 0.16078432, 0.14117648, 0.14509805, 0.13725491,\n",
       "        0.14901961, 0.14901961, 0.13725491, 0.15686275, 0.14901961,\n",
       "        0.33333334, 0.2       , 0.15294118, 0.14509805, 0.16470589,\n",
       "        0.15294118, 0.40392157, 0.30588236, 0.14509805, 0.14117648,\n",
       "        0.1254902 , 0.14117648, 0.14509805, 0.14117648, 0.14117648,\n",
       "        0.1254902 , 0.14509805, 0.14117648, 0.14509805, 0.14509805,\n",
       "        0.15294118, 0.14901961, 0.15294118, 0.14117648, 0.12941177,\n",
       "        0.13333334, 0.13725491, 0.13725491, 0.40392157, 0.14509805,\n",
       "        0.11764706, 0.14901961, 0.14117648, 0.14901961, 0.47058824,\n",
       "        0.5019608 , 0.14117648, 0.13725491, 0.13725491, 0.14901961,\n",
       "        0.15294118, 0.14117648, 0.14509805, 0.14509805, 0.14117648,\n",
       "        0.14117648, 0.13725491, 0.14901961, 0.14509805, 0.14509805,\n",
       "        0.13725491, 0.14117648, 0.14901961, 0.15686275, 0.15294118,\n",
       "        0.14901961, 0.13725491, 0.14509805, 0.14901961, 0.14117648,\n",
       "        0.16078432, 0.15686275, 0.40784314, 0.38431373, 0.13725491,\n",
       "        0.13333334, 0.13725491, 0.14117648, 0.14509805, 0.14117648,\n",
       "        0.14117648, 0.13725491, 0.14117648, 0.13333334, 0.14509805,\n",
       "        0.13725491, 0.15686275, 0.14509805, 0.14509805, 0.14901961,\n",
       "        0.13725491, 0.16078432, 0.14901961, 0.14117648, 0.14117648,\n",
       "        0.14901961, 0.14509805, 0.15686275, 0.13725491, 0.14509805,\n",
       "        0.43529412, 0.41960785, 0.14901961, 0.14117648, 0.14901961,\n",
       "        0.13333334, 0.12941177, 0.14901961, 0.14509805, 0.15294118,\n",
       "        0.14509805, 0.14901961, 0.15294118, 0.13333334, 0.14117648,\n",
       "        0.14509805, 0.14117648, 0.16862746, 0.14901961, 0.15686275,\n",
       "        0.14509805, 0.14901961, 0.15294118, 0.13333334, 0.14901961,\n",
       "        0.14509805, 0.14901961, 0.15294118, 0.24313726, 0.39607844,\n",
       "        0.13333334, 0.14509805, 0.14117648, 0.14509805, 0.15294118,\n",
       "        0.14509805, 0.14509805, 0.16470589, 0.15686275, 0.14901961,\n",
       "        0.14117648, 0.16078432, 0.14901961, 0.15294118, 0.14509805,\n",
       "        0.14901961, 0.15686275, 0.14509805, 0.14509805, 0.14901961,\n",
       "        0.14117648, 0.14509805, 0.13333334, 0.14117648, 0.14117648,\n",
       "        0.13333334, 0.21568628, 0.35686275, 0.14117648, 0.13333334,\n",
       "        0.14117648, 0.13725491, 0.13725491, 0.14509805, 0.14509805,\n",
       "        0.14901961, 0.14901961, 0.14117648, 0.14509805, 0.14509805,\n",
       "        0.14901961, 0.14509805, 0.14901961, 0.14901961, 0.14509805,\n",
       "        0.14117648, 0.14509805, 0.14901961, 0.14117648, 0.14509805,\n",
       "        0.15294118, 0.14117648, 0.14509805, 0.13333334, 0.16078432,\n",
       "        0.45490196, 0.14901961, 0.14117648, 0.13725491, 0.14509805,\n",
       "        0.14901961, 0.14901961, 0.14509805, 0.14117648, 0.14117648,\n",
       "        0.15686275, 0.14509805, 0.15294118, 0.14509805, 0.14509805,\n",
       "        0.14117648, 0.14509805, 0.14117648, 0.15686275, 0.14509805,\n",
       "        0.13725491, 0.15686275, 0.15294118, 0.14901961, 0.15294118,\n",
       "        0.14901961, 0.13333334, 0.12941177, 0.38039216, 0.14901961,\n",
       "        0.13333334, 0.14117648, 0.14901961, 0.14117648, 0.14509805,\n",
       "        0.14117648, 0.14901961, 0.14509805, 0.14509805, 0.15294118,\n",
       "        0.14117648, 0.14901961, 0.15686275, 0.14509805, 0.14509805,\n",
       "        0.13725491, 0.14901961, 0.14117648, 0.14509805, 0.13725491,\n",
       "        0.14901961, 0.14509805, 0.13725491, 0.14901961, 0.13333334,\n",
       "        0.12941177, 0.3254902 , 0.14117648, 0.14117648, 0.14901961,\n",
       "        0.14509805, 0.13725491, 0.14117648, 0.14509805, 0.16078432,\n",
       "        0.14509805, 0.15686275, 0.14509805, 0.14901961, 0.14901961,\n",
       "        0.14509805, 0.14509805, 0.14901961, 0.14509805, 0.16078432,\n",
       "        0.16078432, 0.16078432, 0.15294118, 0.16078432, 0.14901961,\n",
       "        0.14117648, 0.14509805, 0.14117648, 0.14901961, 0.2784314 ,\n",
       "        0.1764706 , 0.15294118, 0.14509805, 0.13725491, 0.14117648,\n",
       "        0.14117648, 0.14901961, 0.14509805, 0.14509805, 0.14509805,\n",
       "        0.14117648, 0.14901961, 0.14117648, 0.15294118, 0.14509805,\n",
       "        0.13725491, 0.14901961, 0.16078432, 0.15686275, 0.15686275,\n",
       "        0.14509805, 0.14509805, 0.15294118, 0.14509805, 0.15686275,\n",
       "        0.14509805, 0.15294118, 0.15294118, 0.15294118, 0.14509805,\n",
       "        0.14901961, 0.15294118, 0.14117648, 0.15294118, 0.14509805,\n",
       "        0.13725491, 0.13725491, 0.14509805, 0.14901961, 0.13333334,\n",
       "        0.14901961, 0.13725491, 0.14901961, 0.14901961, 0.13725491,\n",
       "        0.14509805, 0.14901961, 0.14509805, 0.14901961, 0.14509805,\n",
       "        0.14901961, 0.14901961, 0.14509805, 0.14509805, 0.14901961,\n",
       "        0.16078432, 0.15686275, 0.15686275, 0.15686275, 0.15686275,\n",
       "        0.16862746, 0.14509805, 0.16078432, 0.13333334, 0.14901961,\n",
       "        0.15686275, 0.14901961, 0.16862746, 0.14901961, 0.14509805,\n",
       "        0.16078432, 0.14509805, 0.15294118, 0.15294118, 0.14901961,\n",
       "        0.15294118, 0.14117648, 0.16078432, 0.13333334, 0.16862746,\n",
       "        0.14901961, 0.16078432, 0.14509805, 0.15294118, 0.14117648,\n",
       "        0.15294118, 0.16862746, 0.14901961, 0.14509805, 0.14509805,\n",
       "        0.14509805, 0.14509805, 0.14509805, 0.14901961, 0.14509805,\n",
       "        0.14901961, 0.14509805, 0.14117648, 0.16078432, 0.16470589,\n",
       "        0.15686275, 0.15294118, 0.14509805, 0.14901961, 0.14117648,\n",
       "        0.14901961, 0.14117648, 0.16078432, 0.14117648, 0.15294118,\n",
       "        0.14901961, 0.15686275, 0.16470589, 0.14509805, 0.14117648,\n",
       "        0.13725491, 0.14117648, 0.13725491, 0.14117648, 0.13333334,\n",
       "        0.13333334, 0.14117648, 0.14117648, 0.14509805, 0.14901961,\n",
       "        0.16862746, 0.15686275, 0.14901961, 0.15686275, 0.16078432,\n",
       "        0.15294118, 0.14509805, 0.15686275, 0.14901961, 0.14901961,\n",
       "        0.15294118, 0.14901961, 0.14509805, 0.16078432, 0.15294118,\n",
       "        0.15686275, 0.15294118, 0.14117648, 0.14901961, 0.14509805,\n",
       "        0.14509805, 0.14509805, 0.13333334, 0.14509805, 0.14901961,\n",
       "        0.15294118, 0.16078432, 0.14117648, 0.15686275, 0.14901961,\n",
       "        0.15294118, 0.14509805, 0.14509805, 0.16078432, 0.16470589,\n",
       "        0.16078432, 0.15686275, 0.15294118, 0.14901961, 0.14901961,\n",
       "        0.13725491, 0.14509805, 0.15686275, 0.14509805, 0.16470589,\n",
       "        0.14509805, 0.14901961, 0.14509805, 0.14117648, 0.14117648,\n",
       "        0.14117648, 0.14509805, 0.14117648, 0.14901961]], dtype=float32)"
      ]
     },
     "execution_count": 126,
     "metadata": {},
     "output_type": "execute_result"
    }
   ],
   "source": [
    "reshapedimg"
   ]
  },
  {
   "cell_type": "code",
   "execution_count": 146,
   "metadata": {
    "collapsed": true
   },
   "outputs": [],
   "source": [
    "def invert(z):\n",
    "    return abs(z-255)\n",
    "\n",
    "def brighten(z):\n",
    "    if(z<100):\n",
    "        return 0.0\n",
    "    else:\n",
    "        return z\n",
    "#a = np.zeros(shape=(28,28))"
   ]
  },
  {
   "cell_type": "code",
   "execution_count": 159,
   "metadata": {},
   "outputs": [
    {
     "data": {
      "text/plain": [
       "array([[0.00392157, 0.00392157, 0.00392157, 0.00392157, 0.00392157,\n",
       "        0.00392157, 0.00392157, 0.00392157, 0.00392157, 0.00392157,\n",
       "        0.00392157, 0.00392157, 0.00392157, 0.00392157, 0.00392157,\n",
       "        0.00392157, 0.00392157, 0.00392157, 0.00392157, 0.00392157,\n",
       "        0.00392157, 0.00392157, 0.00392157, 0.00392157, 0.00392157,\n",
       "        0.00392157, 0.00392157, 0.00392157, 0.00392157, 0.00392157,\n",
       "        0.00392157, 0.00392157, 0.00392157, 0.00392157, 0.00392157,\n",
       "        0.00392157, 0.00392157, 0.00392157, 0.00392157, 0.00392157,\n",
       "        0.00392157, 0.00392157, 0.00392157, 0.00392157, 0.00392157,\n",
       "        0.00392157, 0.00392157, 0.00392157, 0.00173779, 0.00195309,\n",
       "        0.00213764, 0.00392157, 0.00392157, 0.00392157, 0.00392157,\n",
       "        0.00392157, 0.00392157, 0.00392157, 0.00392157, 0.00392157,\n",
       "        0.00229143, 0.0021684 , 0.00236832, 0.00392157, 0.00392157,\n",
       "        0.00392157, 0.00392157, 0.00392157, 0.00392157, 0.00392157,\n",
       "        0.00392157, 0.00392157, 0.00392157, 0.00392157, 0.00392157,\n",
       "        0.00235294, 0.00175317, 0.00147636, 0.00199923, 0.00227605,\n",
       "        0.00392157, 0.00392157, 0.00392157, 0.00392157, 0.00392157,\n",
       "        0.00392157, 0.00392157, 0.00392157, 0.00226067, 0.00173779,\n",
       "        0.00152249, 0.00218378, 0.00392157, 0.00392157, 0.00392157,\n",
       "        0.00392157, 0.00392157, 0.00392157, 0.00392157, 0.00392157,\n",
       "        0.00392157, 0.00392157, 0.00392157, 0.00392157, 0.00159938,\n",
       "        0.00138408, 0.00181469, 0.00219915, 0.00392157, 0.00392157,\n",
       "        0.00392157, 0.00392157, 0.00392157, 0.00392157, 0.00392157,\n",
       "        0.00392157, 0.00218378, 0.00095348, 0.00152249, 0.00392157,\n",
       "        0.00392157, 0.00392157, 0.00392157, 0.00392157, 0.00392157,\n",
       "        0.00392157, 0.00392157, 0.00392157, 0.00392157, 0.00392157,\n",
       "        0.00392157, 0.00227605, 0.00129181, 0.00110727, 0.00135333,\n",
       "        0.0020915 , 0.00392157, 0.00392157, 0.00392157, 0.00392157,\n",
       "        0.00392157, 0.00392157, 0.00392157, 0.00392157, 0.00193772,\n",
       "        0.00095348, 0.00124567, 0.00392157, 0.00392157, 0.00392157,\n",
       "        0.00392157, 0.00392157, 0.00392157, 0.00392157, 0.00392157,\n",
       "        0.00392157, 0.00392157, 0.00392157, 0.00392157, 0.00218378,\n",
       "        0.00110727, 0.00103037, 0.00170704, 0.00392157, 0.00392157,\n",
       "        0.00392157, 0.00392157, 0.00392157, 0.00392157, 0.00392157,\n",
       "        0.00392157, 0.00392157, 0.00152249, 0.00101499, 0.00176855,\n",
       "        0.00392157, 0.00392157, 0.00392157, 0.00392157, 0.00392157,\n",
       "        0.00392157, 0.00392157, 0.00392157, 0.00392157, 0.00392157,\n",
       "        0.00392157, 0.00392157, 0.00204537, 0.00103037, 0.00084583,\n",
       "        0.00138408, 0.00230681, 0.00392157, 0.00392157, 0.00392157,\n",
       "        0.00392157, 0.00392157, 0.00392157, 0.00392157, 0.00207612,\n",
       "        0.00098424, 0.00107651, 0.00204537, 0.00392157, 0.00392157,\n",
       "        0.00392157, 0.00392157, 0.00392157, 0.00392157, 0.00392157,\n",
       "        0.00392157, 0.00392157, 0.00392157, 0.00392157, 0.00392157,\n",
       "        0.00170704, 0.00106113, 0.00112265, 0.00170704, 0.00392157,\n",
       "        0.00392157, 0.00392157, 0.00392157, 0.00392157, 0.00392157,\n",
       "        0.00392157, 0.00392157, 0.00170704, 0.00112265, 0.00161476,\n",
       "        0.00235294, 0.00392157, 0.00392157, 0.00392157, 0.00392157,\n",
       "        0.00392157, 0.00392157, 0.00392157, 0.00392157, 0.00392157,\n",
       "        0.00392157, 0.00392157, 0.00233756, 0.00147636, 0.00069204,\n",
       "        0.00110727, 0.00150711, 0.0023837 , 0.00392157, 0.00392157,\n",
       "        0.00392157, 0.00392157, 0.00392157, 0.00392157, 0.00202999,\n",
       "        0.00153787, 0.00163014, 0.00189158, 0.00392157, 0.00392157,\n",
       "        0.00392157, 0.00392157, 0.00392157, 0.00392157, 0.00392157,\n",
       "        0.00392157, 0.00392157, 0.00392157, 0.00392157, 0.00392157,\n",
       "        0.00392157, 0.00135333, 0.00110727, 0.0013687 , 0.00173779,\n",
       "        0.00392157, 0.00392157, 0.00392157, 0.00392157, 0.00392157,\n",
       "        0.00392157, 0.00229143, 0.0016609 , 0.00159938, 0.00161476,\n",
       "        0.00227605, 0.00392157, 0.00392157, 0.00392157, 0.00392157,\n",
       "        0.00392157, 0.00392157, 0.00392157, 0.00392157, 0.00392157,\n",
       "        0.00392157, 0.00392157, 0.00392157, 0.00392157, 0.00143022,\n",
       "        0.00101499, 0.00119954, 0.00189158, 0.00392157, 0.00392157,\n",
       "        0.00392157, 0.00392157, 0.00392157, 0.00392157, 0.00192234,\n",
       "        0.00119954, 0.00167628, 0.00206075, 0.00392157, 0.00392157,\n",
       "        0.00392157, 0.00392157, 0.00392157, 0.00392157, 0.00392157,\n",
       "        0.00392157, 0.00392157, 0.00392157, 0.00392157, 0.00392157,\n",
       "        0.00392157, 0.00227605, 0.00141484, 0.00103037, 0.00124567,\n",
       "        0.00173779, 0.00392157, 0.00392157, 0.00392157, 0.00392157,\n",
       "        0.00392157, 0.00392157, 0.00392157, 0.00235294, 0.00219915,\n",
       "        0.00206075, 0.00164552, 0.00146098, 0.00121492, 0.00116878,\n",
       "        0.00098424, 0.00112265, 0.00089196, 0.00081507, 0.00106113,\n",
       "        0.00104575, 0.00119954, 0.00124567, 0.00107651, 0.0007228 ,\n",
       "        0.00081507, 0.00107651, 0.0012303 , 0.00170704, 0.0023837 ,\n",
       "        0.00392157, 0.00392157, 0.00392157, 0.00392157, 0.00392157,\n",
       "        0.00392157, 0.00392157, 0.00392157, 0.00392157, 0.00392157,\n",
       "        0.00392157, 0.00392157, 0.00392157, 0.00392157, 0.00392157,\n",
       "        0.00392157, 0.00392157, 0.00392157, 0.00235294, 0.00392157,\n",
       "        0.0023837 , 0.00233756, 0.0020915 , 0.00126105, 0.00113802,\n",
       "        0.00146098, 0.0018762 , 0.00392157, 0.00392157, 0.00392157,\n",
       "        0.00392157, 0.00392157, 0.00392157, 0.00392157, 0.00392157,\n",
       "        0.00392157, 0.00392157, 0.00392157, 0.00392157, 0.00392157,\n",
       "        0.00392157, 0.00392157, 0.00392157, 0.00392157, 0.00392157,\n",
       "        0.00392157, 0.00392157, 0.00392157, 0.00392157, 0.00392157,\n",
       "        0.00222991, 0.00089196, 0.00076894, 0.00106113, 0.00183007,\n",
       "        0.00392157, 0.00392157, 0.00392157, 0.00392157, 0.00392157,\n",
       "        0.00392157, 0.00392157, 0.00392157, 0.00392157, 0.00392157,\n",
       "        0.00392157, 0.00392157, 0.00392157, 0.00392157, 0.00392157,\n",
       "        0.00392157, 0.00392157, 0.00392157, 0.00392157, 0.00392157,\n",
       "        0.00392157, 0.00392157, 0.00392157, 0.0023837 , 0.00098424,\n",
       "        0.00089196, 0.00129181, 0.00176855, 0.00232218, 0.00392157,\n",
       "        0.00392157, 0.00392157, 0.00392157, 0.00392157, 0.00392157,\n",
       "        0.00392157, 0.00392157, 0.00392157, 0.00392157, 0.00392157,\n",
       "        0.00392157, 0.00392157, 0.00392157, 0.00392157, 0.00392157,\n",
       "        0.00392157, 0.00392157, 0.00392157, 0.00392157, 0.00392157,\n",
       "        0.00392157, 0.00392157, 0.00178393, 0.00130719, 0.00130719,\n",
       "        0.00179931, 0.00392157, 0.00392157, 0.00392157, 0.00392157,\n",
       "        0.00392157, 0.00392157, 0.00392157, 0.00392157, 0.00392157,\n",
       "        0.00392157, 0.00392157, 0.00392157, 0.00392157, 0.00392157,\n",
       "        0.00392157, 0.00392157, 0.00392157, 0.00392157, 0.00392157,\n",
       "        0.00392157, 0.00392157, 0.00392157, 0.00392157, 0.0023837 ,\n",
       "        0.00150711, 0.00073818, 0.00104575, 0.00183007, 0.00230681,\n",
       "        0.00392157, 0.00392157, 0.00392157, 0.00392157, 0.00392157,\n",
       "        0.00392157, 0.00392157, 0.00392157, 0.00392157, 0.00392157,\n",
       "        0.00392157, 0.0023837 , 0.00392157, 0.00392157, 0.00392157,\n",
       "        0.00392157, 0.00392157, 0.00392157, 0.00392157, 0.00392157,\n",
       "        0.00392157, 0.00392157, 0.00392157, 0.00132257, 0.00104575,\n",
       "        0.00124567, 0.00184544, 0.00202999, 0.00392157, 0.00392157,\n",
       "        0.00392157, 0.00392157, 0.00236832, 0.00392157, 0.00392157,\n",
       "        0.00392157, 0.0023837 , 0.00392157, 0.00392157, 0.00392157,\n",
       "        0.00392157, 0.00392157, 0.00392157, 0.00392157, 0.00392157,\n",
       "        0.00392157, 0.00392157, 0.00392157, 0.00392157, 0.00392157,\n",
       "        0.00392157, 0.00167628, 0.0009381 , 0.00135333, 0.00167628,\n",
       "        0.00230681, 0.00392157, 0.00392157, 0.00392157, 0.00392157,\n",
       "        0.00392157, 0.00392157, 0.00392157, 0.00392157, 0.00392157,\n",
       "        0.00392157, 0.00392157, 0.00392157, 0.00392157, 0.00392157,\n",
       "        0.00392157, 0.00392157, 0.00392157, 0.00392157, 0.00392157,\n",
       "        0.00392157, 0.00392157, 0.00392157, 0.00392157, 0.00195309,\n",
       "        0.00103037, 0.00126105, 0.00150711, 0.0021684 , 0.00392157,\n",
       "        0.00392157, 0.00392157, 0.00392157, 0.00392157, 0.00392157,\n",
       "        0.00392157, 0.00392157, 0.00392157, 0.00392157, 0.00392157,\n",
       "        0.00392157, 0.00392157, 0.00392157, 0.00392157, 0.00392157,\n",
       "        0.00392157, 0.00392157, 0.00392157, 0.00392157, 0.00392157,\n",
       "        0.00392157, 0.00392157, 0.00201461, 0.00083045, 0.0012303 ,\n",
       "        0.00156863, 0.00219915, 0.00392157, 0.00392157, 0.00392157,\n",
       "        0.00392157, 0.00392157, 0.00392157, 0.00392157, 0.00392157,\n",
       "        0.00392157, 0.00392157, 0.00392157, 0.00392157, 0.00392157,\n",
       "        0.00392157, 0.00392157, 0.00392157, 0.00392157, 0.00392157,\n",
       "        0.00392157, 0.00392157, 0.00392157, 0.00392157, 0.00392157,\n",
       "        0.00204537, 0.00118416, 0.00110727, 0.00138408, 0.00189158,\n",
       "        0.00392157, 0.00392157, 0.00392157, 0.00392157, 0.00392157,\n",
       "        0.00392157, 0.00392157, 0.00392157, 0.00392157, 0.00392157,\n",
       "        0.00392157, 0.00392157, 0.00392157, 0.00392157, 0.00392157,\n",
       "        0.00392157, 0.00392157, 0.00392157, 0.00392157, 0.00392157,\n",
       "        0.00392157, 0.00392157, 0.00392157, 0.00193772, 0.00110727,\n",
       "        0.00130719, 0.00138408, 0.00181469, 0.0023837 , 0.00392157,\n",
       "        0.00392157, 0.00392157, 0.00392157, 0.00392157, 0.00392157,\n",
       "        0.00392157, 0.00392157, 0.00392157, 0.00392157, 0.00392157,\n",
       "        0.00392157, 0.00392157, 0.00392157, 0.00392157, 0.00392157,\n",
       "        0.00392157, 0.00392157, 0.00392157, 0.00392157, 0.00392157,\n",
       "        0.00392157, 0.00219915, 0.00112265, 0.00098424, 0.00135333,\n",
       "        0.00159938, 0.00392157, 0.00392157, 0.00392157, 0.00392157,\n",
       "        0.00392157, 0.00392157, 0.00392157, 0.00392157, 0.00392157,\n",
       "        0.00392157, 0.00392157, 0.00392157, 0.00392157, 0.00392157,\n",
       "        0.00392157, 0.00392157, 0.00392157, 0.00392157, 0.00392157,\n",
       "        0.00392157, 0.00392157, 0.00392157, 0.00392157, 0.00224529,\n",
       "        0.00164552, 0.00141484, 0.00133795, 0.00161476, 0.00232218,\n",
       "        0.00392157, 0.00392157, 0.00392157, 0.00392157, 0.0023837 ,\n",
       "        0.00392157, 0.00392157, 0.00392157, 0.00392157, 0.00392157,\n",
       "        0.00392157, 0.00392157, 0.00392157, 0.00392157, 0.00392157,\n",
       "        0.00392157, 0.00392157, 0.00392157, 0.00392157, 0.00392157,\n",
       "        0.00392157, 0.00392157, 0.00392157, 0.00392157, 0.0023837 ,\n",
       "        0.00235294, 0.00229143, 0.00392157, 0.00392157, 0.00392157,\n",
       "        0.00392157, 0.00392157, 0.00392157, 0.00392157, 0.00392157,\n",
       "        0.00392157, 0.00392157, 0.00392157, 0.00392157, 0.00392157,\n",
       "        0.00392157, 0.00392157, 0.00392157, 0.00392157, 0.00233756,\n",
       "        0.00392157, 0.00392157, 0.00392157, 0.00392157, 0.00392157,\n",
       "        0.00392157, 0.00392157, 0.00392157, 0.00392157, 0.00392157,\n",
       "        0.00392157, 0.00392157, 0.00236832, 0.00392157]], dtype=float32)"
      ]
     },
     "execution_count": 159,
     "metadata": {},
     "output_type": "execute_result"
    }
   ],
   "source": [
    "#test4 = cv2.imread(\"test4.jpg\", cv2.cv2.IMREAD_GRAYSCALE)\n",
    "#test4 = cv2.resize(test4, (28, 28)) \n",
    "#invert = np.vectorize(invert, otypes=[np.float])\n",
    "#test4 = invert(test4)\n",
    "#brighten = np.vectorize(brighten, otypes=[np.float])\n",
    "#test4 = brighten(test4)\n",
    "reshapedimg = test4.reshape(1, 784).astype('float32')\n",
    "#\n",
    "reshapedimg /= 255\n",
    "reshapedimg\n",
    "result = model.predict(reshapedimg)\n",
    "#n_classes = 10\n",
    "#keras.utils.to_categorical(result, n_classes)"
   ]
  },
  {
   "cell_type": "code",
   "execution_count": 164,
   "metadata": {},
   "outputs": [
    {
     "data": {
      "text/plain": [
       "True"
      ]
     },
     "execution_count": 164,
     "metadata": {},
     "output_type": "execute_result"
    }
   ],
   "source": [
    "test4 = invert(test4)\n",
    "#cv2.imwrite(\"/Temp/test4.bmp\",test4)\n",
    "cv2.imwrite(\"/Temp/testsetnum.bmp\",X_test[1])"
   ]
  },
  {
   "cell_type": "code",
   "execution_count": 176,
   "metadata": {},
   "outputs": [
    {
     "data": {
      "text/plain": [
       "array([[0.12673727, 0.01990256, 0.08104635, 0.08354645, 0.20915388,\n",
       "        0.2006497 , 0.05133255, 0.08735745, 0.05018364, 0.09009027]],\n",
       "      dtype=float32)"
      ]
     },
     "execution_count": 176,
     "metadata": {},
     "output_type": "execute_result"
    }
   ],
   "source": [
    "#X_test[1]\n",
    "#test4 = test4.astype(np.uint8)\n",
    "#test4\n",
    "reshapedimg = test4.reshape(1, 784).astype('float32')\n",
    "reshapedimg /= 255\n",
    "reshapedimg\n",
    "result = model.predict(reshapedimg)\n",
    "result\n",
    "#n_classes = 10\n",
    "#keras.utils.to_categorical(result, n_classes)\n",
    "\n",
    "#test4 = invert(test4)\n",
    "#test4"
   ]
  },
  {
   "cell_type": "code",
   "execution_count": 192,
   "metadata": {},
   "outputs": [
    {
     "data": {
      "text/plain": [
       "4"
      ]
     },
     "execution_count": 192,
     "metadata": {},
     "output_type": "execute_result"
    }
   ],
   "source": [
    "resultArray = np.asarray(result[0])\n",
    "resultArray.tolist().index(max(result[0]))"
   ]
  },
  {
   "cell_type": "code",
   "execution_count": 174,
   "metadata": {},
   "outputs": [
    {
     "data": {
      "text/plain": [
       "array([[  0,   0,   0,   0,   0,   0,   0,   0,   0,   0,   0,   0,   0,\n",
       "          0,   0,   0,   0,   0,   0,   0,   0,   0,   0,   0,   0,   0,\n",
       "          0,   0],\n",
       "       [  0,   0,   0,   0,   0,   0,   0,   0,   0,   0,   0,   0,   0,\n",
       "          0,   0,   0,   0,   0,   0,   0, 142, 128, 116,   0,   0,   0,\n",
       "          0,   0],\n",
       "       [  0,   0,   0,   0, 106, 114, 101,   0,   0,   0,   0,   0,   0,\n",
       "          0,   0,   0,   0,   0,   0, 102, 141, 159, 125, 107,   0,   0,\n",
       "          0,   0],\n",
       "       [  0,   0,   0,   0, 108, 142, 156, 113,   0,   0,   0,   0,   0,\n",
       "          0,   0,   0,   0,   0,   0,   0, 151, 165, 137, 112,   0,   0,\n",
       "          0,   0],\n",
       "       [  0,   0,   0,   0, 113, 193, 156,   0,   0,   0,   0,   0,   0,\n",
       "          0,   0,   0,   0,   0,   0, 107, 171, 183, 167, 119,   0,   0,\n",
       "          0,   0],\n",
       "       [  0,   0,   0,   0, 129, 193, 174,   0,   0,   0,   0,   0,   0,\n",
       "          0,   0,   0,   0,   0,   0, 113, 183, 188, 144,   0,   0,   0,\n",
       "          0,   0],\n",
       "       [  0,   0,   0,   0, 156, 189, 140,   0,   0,   0,   0,   0,   0,\n",
       "          0,   0,   0,   0,   0,   0, 122, 188, 200, 165, 105,   0,   0,\n",
       "          0,   0],\n",
       "       [  0,   0,   0, 120, 191, 185, 122,   0,   0,   0,   0,   0,   0,\n",
       "          0,   0,   0,   0,   0,   0, 144, 186, 182, 144,   0,   0,   0,\n",
       "          0,   0],\n",
       "       [  0,   0,   0, 144, 182, 150, 102,   0,   0,   0,   0,   0,   0,\n",
       "          0,   0,   0,   0,   0, 103, 159, 210, 183, 157, 100,   0,   0,\n",
       "          0,   0],\n",
       "       [  0,   0, 123, 155, 149, 132,   0,   0,   0,   0,   0,   0,   0,\n",
       "          0,   0,   0,   0,   0,   0, 167, 183, 166, 142,   0,   0,   0,\n",
       "          0,   0],\n",
       "       [  0, 106, 147, 151, 150, 107,   0,   0,   0,   0,   0,   0,   0,\n",
       "          0,   0,   0,   0,   0,   0, 162, 189, 177, 132,   0,   0,   0,\n",
       "          0,   0],\n",
       "       [  0, 130, 177, 146, 121,   0,   0,   0,   0,   0,   0,   0,   0,\n",
       "          0,   0,   0,   0,   0, 107, 163, 188, 174, 142,   0,   0,   0,\n",
       "          0,   0],\n",
       "       [  0,   0, 102, 112, 121, 148, 160, 176, 179, 191, 182, 197, 202,\n",
       "        186, 187, 177, 174, 185, 208, 202, 185, 175, 144, 100,   0,   0,\n",
       "          0,   0],\n",
       "       [  0,   0,   0,   0,   0,   0,   0,   0,   0,   0,   0,   0,   0,\n",
       "          0, 102,   0, 100, 103, 119, 173, 181, 160, 133,   0,   0,   0,\n",
       "          0,   0],\n",
       "       [  0,   0,   0,   0,   0,   0,   0,   0,   0,   0,   0,   0,   0,\n",
       "          0,   0,   0,   0,   0, 110, 197, 205, 186, 136,   0,   0,   0,\n",
       "          0,   0],\n",
       "       [  0,   0,   0,   0,   0,   0,   0,   0,   0,   0,   0,   0,   0,\n",
       "          0,   0,   0,   0,   0, 100, 191, 197, 171, 140, 104,   0,   0,\n",
       "          0,   0],\n",
       "       [  0,   0,   0,   0,   0,   0,   0,   0,   0,   0,   0,   0,   0,\n",
       "          0,   0,   0,   0,   0,   0, 139, 170, 170, 138,   0,   0,   0,\n",
       "          0,   0],\n",
       "       [  0,   0,   0,   0,   0,   0,   0,   0,   0,   0,   0,   0,   0,\n",
       "          0,   0,   0,   0,   0, 100, 157, 207, 187, 136, 105,   0,   0,\n",
       "          0,   0],\n",
       "       [  0,   0,   0,   0,   0,   0,   0, 100,   0,   0,   0,   0,   0,\n",
       "          0,   0,   0,   0,   0,   0, 169, 187, 174, 135, 123,   0,   0,\n",
       "          0,   0],\n",
       "       [101,   0,   0,   0, 100,   0,   0,   0,   0,   0,   0,   0,   0,\n",
       "          0,   0,   0,   0,   0,   0, 146, 194, 167, 146, 105,   0,   0,\n",
       "          0,   0],\n",
       "       [  0,   0,   0,   0,   0,   0,   0,   0,   0,   0,   0,   0,   0,\n",
       "          0,   0,   0,   0,   0,   0, 128, 188, 173, 157, 114,   0,   0,\n",
       "          0,   0],\n",
       "       [  0,   0,   0,   0,   0,   0,   0,   0,   0,   0,   0,   0,   0,\n",
       "          0,   0,   0,   0,   0,   0, 124, 201, 175, 153, 112,   0,   0,\n",
       "          0,   0],\n",
       "       [  0,   0,   0,   0,   0,   0,   0,   0,   0,   0,   0,   0,   0,\n",
       "          0,   0,   0,   0,   0,   0, 122, 178, 183, 165, 132,   0,   0,\n",
       "          0,   0],\n",
       "       [  0,   0,   0,   0,   0,   0,   0,   0,   0,   0,   0,   0,   0,\n",
       "          0,   0,   0,   0,   0,   0, 129, 183, 170, 165, 137, 100,   0,\n",
       "          0,   0],\n",
       "       [  0,   0,   0,   0,   0,   0,   0,   0,   0,   0,   0,   0,   0,\n",
       "          0,   0,   0,   0,   0,   0, 112, 182, 191, 167, 151,   0,   0,\n",
       "          0,   0],\n",
       "       [  0,   0,   0,   0,   0,   0,   0,   0,   0,   0,   0,   0,   0,\n",
       "          0,   0,   0,   0,   0,   0, 109, 148, 163, 168, 150, 104,   0,\n",
       "          0,   0],\n",
       "       [  0, 100,   0,   0,   0,   0,   0,   0,   0,   0,   0,   0,   0,\n",
       "          0,   0,   0,   0,   0,   0,   0,   0, 100, 102, 106,   0,   0,\n",
       "          0,   0],\n",
       "       [  0,   0,   0,   0,   0,   0,   0,   0,   0,   0,   0,   0,   0,\n",
       "        103,   0,   0,   0,   0,   0,   0,   0,   0,   0,   0,   0,   0,\n",
       "        101,   0]], dtype=uint8)"
      ]
     },
     "execution_count": 174,
     "metadata": {},
     "output_type": "execute_result"
    }
   ],
   "source": [
    "test4 = test4.astype(np.uint8)\n",
    "test4"
   ]
  },
  {
   "cell_type": "code",
   "execution_count": 193,
   "metadata": {},
   "outputs": [
    {
     "data": {
      "text/plain": [
       "4"
      ]
     },
     "execution_count": 193,
     "metadata": {},
     "output_type": "execute_result"
    }
   ],
   "source": [
    "test4 = cv2.imread(\"test4.jpg\", cv2.cv2.IMREAD_GRAYSCALE)\n",
    "test4 = cv2.resize(test4, (28, 28)) \n",
    "invert = np.vectorize(invert, otypes=[np.float])\n",
    "test4 = invert(test4)\n",
    "brighten = np.vectorize(brighten, otypes=[np.float])\n",
    "test4 = brighten(test4)\n",
    "reshapedimg = test4.reshape(1, 784).astype('float32')\n",
    "reshapedimg /= 255\n",
    "result = model.predict(reshapedimg)\n",
    "resultArray = np.asarray(result[0])\n",
    "resultArray.tolist().index(max(result[0]))"
   ]
  },
  {
   "cell_type": "code",
   "execution_count": 240,
   "metadata": {},
   "outputs": [
    {
     "data": {
      "text/plain": [
       "0"
      ]
     },
     "execution_count": 240,
     "metadata": {},
     "output_type": "execute_result"
    }
   ],
   "source": [
    "def invert(z):\n",
    "    return abs(z-255)\n",
    "\n",
    "def brighten(z):\n",
    "    if(z<130):\n",
    "        return 0.0\n",
    "    if(z>150):\n",
    "        return 255.0\n",
    "    else:\n",
    "        return z\n",
    "test8 = cv2.imread(\"test2.jpg\", cv2.cv2.IMREAD_GRAYSCALE)\n",
    "test8 = cv2.resize(test8, (28, 28)) \n",
    "invert = np.vectorize(invert, otypes=[np.float])\n",
    "test8 = invert(test8)\n",
    "brighten = np.vectorize(brighten, otypes=[np.float])\n",
    "test8 = brighten(test8)\n",
    "test8 = X_test[3]\n",
    "#test8=test8.astype(np.uint8)\n",
    "cv2.imwrite(\"/Temp/testsetnum.bmp\",test8)\n",
    "reshapedimg = test8.reshape(1, 784).astype('float32')\n",
    "reshapedimg /= 255\n",
    "result = model.predict(reshapedimg)\n",
    "resultArray = np.asarray(result[0])\n",
    "resultArray.tolist().index(max(result[0]))\n",
    "#result"
   ]
  },
  {
   "cell_type": "code",
   "execution_count": 228,
   "metadata": {},
   "outputs": [
    {
     "data": {
      "text/plain": [
       "array([[  0.,   0.,   0.,   0.,   0.,   0.,   0.,   0.,   0.,   0.,   0.,\n",
       "          0.,   0.,   0.,   0.,   0.,   0.,   0.,   0.,   0.,   0.,   0.,\n",
       "          0.,   0.,   0.,   0.,   0.,   0.],\n",
       "       [  0.,   0.,   0.,   0.,   0.,   0.,   0.,   0.,   0.,   0.,   0.,\n",
       "          0.,   0.,   0.,   0.,   0.,   0.,   0.,   0.,   0.,   0.,   0.,\n",
       "          0.,   0.,   0.,   0.,   0.,   0.],\n",
       "       [  0.,   0.,   0.,   0.,   0.,   0.,   0.,   0.,   0.,   0.,   0.,\n",
       "          0.,   0.,   0.,   0.,   0.,   0.,   0.,   0.,   0.,   0.,   0.,\n",
       "          0.,   0.,   0.,   0.,   0.,   0.],\n",
       "       [  0.,   0.,   0.,   0.,   0.,   0.,   0.,   0.,   0.,   0.,   0.,\n",
       "          0.,   0.,   0.,   0.,   0.,   0.,   0.,   0., 166.,   0.,   0.,\n",
       "          0.,   0.,   0.,   0.,   0.,   0.],\n",
       "       [  0.,   0.,   0.,   0.,   0.,   0.,   0.,   0.,   0.,   0.,   0.,\n",
       "          0.,   0.,   0.,   0.,   0.,   0.,   0.,   0., 134.,   0.,   0.,\n",
       "          0.,   0.,   0.,   0.,   0.,   0.],\n",
       "       [  0.,   0.,   0.,   0.,   0.,   0.,   0.,   0.,   0.,   0.,   0.,\n",
       "          0.,   0.,   0.,   0.,   0.,   0.,   0., 173.,   0.,   0.,   0.,\n",
       "          0.,   0.,   0.,   0.,   0.,   0.],\n",
       "       [  0.,   0.,   0.,   0.,   0.,   0.,   0.,   0.,   0.,   0.,   0.,\n",
       "          0., 141., 168., 142.,   0.,   0., 177.,   0.,   0.,   0.,   0.,\n",
       "          0.,   0.,   0.,   0.,   0.,   0.],\n",
       "       [  0.,   0.,   0.,   0.,   0.,   0.,   0.,   0.,   0.,   0., 186.,\n",
       "          0.,   0.,   0.,   0.,   0., 139., 146.,   0.,   0.,   0.,   0.,\n",
       "          0.,   0.,   0.,   0.,   0.,   0.],\n",
       "       [  0.,   0.,   0.,   0.,   0.,   0.,   0., 149., 201., 136.,   0.,\n",
       "          0.,   0.,   0.,   0.,   0., 200.,   0.,   0.,   0.,   0.,   0.,\n",
       "          0.,   0.,   0.,   0.,   0.,   0.],\n",
       "       [  0.,   0.,   0.,   0.,   0.,   0., 214., 130.,   0.,   0.,   0.,\n",
       "          0.,   0.,   0.,   0., 196.,   0.,   0.,   0.,   0.,   0.,   0.,\n",
       "          0.,   0.,   0.,   0.,   0.,   0.],\n",
       "       [  0.,   0.,   0.,   0.,   0., 205.,   0.,   0.,   0.,   0.,   0.,\n",
       "          0.,   0.,   0., 146., 163.,   0.,   0.,   0.,   0.,   0.,   0.,\n",
       "          0.,   0.,   0.,   0.,   0.,   0.],\n",
       "       [  0.,   0.,   0.,   0.,   0.,   0., 198., 143.,   0.,   0.,   0.,\n",
       "          0.,   0.,   0., 201.,   0.,   0.,   0.,   0.,   0.,   0.,   0.,\n",
       "          0.,   0.,   0.,   0.,   0.,   0.],\n",
       "       [  0.,   0.,   0.,   0.,   0.,   0.,   0., 153., 199., 159.,   0.,\n",
       "          0.,   0., 197.,   0.,   0.,   0.,   0.,   0.,   0.,   0.,   0.,\n",
       "          0.,   0.,   0.,   0.,   0.,   0.],\n",
       "       [  0.,   0.,   0.,   0.,   0.,   0.,   0.,   0.,   0.,   0., 178.,\n",
       "        180., 174., 192.,   0.,   0.,   0.,   0.,   0.,   0.,   0.,   0.,\n",
       "          0.,   0.,   0.,   0.,   0.,   0.],\n",
       "       [  0.,   0.,   0.,   0.,   0.,   0.,   0.,   0.,   0.,   0.,   0.,\n",
       "          0., 199., 178., 188., 160.,   0.,   0.,   0.,   0.,   0.,   0.,\n",
       "          0.,   0.,   0.,   0.,   0.,   0.],\n",
       "       [  0.,   0.,   0.,   0.,   0.,   0.,   0.,   0.,   0.,   0.,   0.,\n",
       "          0., 204.,   0.,   0., 136., 188., 172.,   0.,   0.,   0.,   0.,\n",
       "          0.,   0.,   0.,   0.,   0.,   0.],\n",
       "       [  0.,   0.,   0.,   0.,   0.,   0.,   0.,   0.,   0.,   0.,   0.,\n",
       "          0., 173.,   0.,   0.,   0.,   0., 132., 190., 150.,   0.,   0.,\n",
       "          0.,   0.,   0.,   0.,   0.,   0.],\n",
       "       [  0.,   0.,   0.,   0.,   0.,   0.,   0.,   0.,   0.,   0.,   0.,\n",
       "        146., 158.,   0.,   0.,   0.,   0.,   0.,   0., 150., 172.,   0.,\n",
       "          0.,   0.,   0.,   0.,   0.,   0.],\n",
       "       [  0.,   0.,   0.,   0.,   0.,   0.,   0.,   0.,   0.,   0.,   0.,\n",
       "        165., 140.,   0.,   0.,   0.,   0.,   0.,   0.,   0., 173.,   0.,\n",
       "          0.,   0.,   0.,   0.,   0.,   0.],\n",
       "       [  0.,   0.,   0.,   0.,   0.,   0.,   0.,   0.,   0.,   0.,   0.,\n",
       "        162., 155.,   0.,   0.,   0.,   0.,   0.,   0.,   0., 175.,   0.,\n",
       "          0.,   0.,   0.,   0.,   0.,   0.],\n",
       "       [  0.,   0.,   0.,   0.,   0.,   0.,   0.,   0.,   0.,   0.,   0.,\n",
       "        139., 197.,   0.,   0.,   0.,   0.,   0.,   0.,   0., 160.,   0.,\n",
       "          0.,   0.,   0.,   0.,   0.,   0.],\n",
       "       [  0.,   0.,   0.,   0.,   0.,   0.,   0.,   0.,   0.,   0.,   0.,\n",
       "          0., 206., 131.,   0.,   0.,   0.,   0.,   0., 186.,   0.,   0.,\n",
       "          0.,   0.,   0.,   0.,   0., 136.],\n",
       "       [  0.,   0.,   0.,   0.,   0.,   0.,   0.,   0.,   0.,   0.,   0.,\n",
       "          0., 145., 213., 150.,   0., 137., 191., 151.,   0.,   0.,   0.,\n",
       "          0.,   0.,   0.,   0., 132.,   0.],\n",
       "       [  0.,   0.,   0.,   0.,   0.,   0.,   0.,   0.,   0.,   0.,   0.,\n",
       "          0.,   0.,   0., 151., 153., 135.,   0.,   0.,   0.,   0.,   0.,\n",
       "          0.,   0.,   0.,   0.,   0.,   0.],\n",
       "       [  0.,   0.,   0.,   0.,   0.,   0.,   0.,   0.,   0.,   0.,   0.,\n",
       "          0.,   0.,   0.,   0.,   0.,   0.,   0.,   0.,   0.,   0.,   0.,\n",
       "          0.,   0.,   0.,   0.,   0.,   0.],\n",
       "       [  0.,   0.,   0.,   0.,   0.,   0.,   0.,   0.,   0.,   0.,   0.,\n",
       "          0.,   0.,   0., 130.,   0.,   0.,   0.,   0.,   0.,   0., 130.,\n",
       "          0.,   0.,   0.,   0.,   0.,   0.],\n",
       "       [  0.,   0.,   0.,   0.,   0.,   0.,   0.,   0.,   0.,   0.,   0.,\n",
       "          0.,   0.,   0., 132., 131.,   0.,   0.,   0.,   0.,   0.,   0.,\n",
       "          0.,   0.,   0.,   0.,   0.,   0.],\n",
       "       [  0.,   0.,   0.,   0.,   0.,   0.,   0.,   0.,   0.,   0., 131.,\n",
       "        131.,   0.,   0.,   0.,   0.,   0.,   0.,   0., 134., 130.,   0.,\n",
       "          0.,   0., 131.,   0.,   0.,   0.]])"
      ]
     },
     "execution_count": 228,
     "metadata": {},
     "output_type": "execute_result"
    }
   ],
   "source": [
    "test8"
   ]
  },
  {
   "cell_type": "code",
   "execution_count": 229,
   "metadata": {},
   "outputs": [
    {
     "data": {
      "text/plain": [
       "array([[  0,   0,   0,   0,   0,   0,   0,   0,   0,   0,   0,   0,   0,\n",
       "          0,   0,   0,   0,   0,   0,   0,   0,   0,   0,   0,   0,   0,\n",
       "          0,   0],\n",
       "       [  0,   0,   0,   0,   0,   0,   0,   0,   0,   0,   0,   0,   0,\n",
       "          0,   0,   0,   0,   0,   0,   0,   0,   0,   0,   0,   0,   0,\n",
       "          0,   0],\n",
       "       [  0,   0,   0,   0,   0,   0,   0,   0,   0,   0,   0,   0,   0,\n",
       "          0,   0,   0,   0,   0,   0,   0,   0,   0,   0,   0,   0,   0,\n",
       "          0,   0],\n",
       "       [  0,   0,   0,   0,   0,   0,   0,   0,   0,   0, 116, 125, 171,\n",
       "        255, 255, 150,  93,   0,   0,   0,   0,   0,   0,   0,   0,   0,\n",
       "          0,   0],\n",
       "       [  0,   0,   0,   0,   0,   0,   0,   0,   0, 169, 253, 253, 253,\n",
       "        253, 253, 253, 218,  30,   0,   0,   0,   0,   0,   0,   0,   0,\n",
       "          0,   0],\n",
       "       [  0,   0,   0,   0,   0,   0,   0,   0, 169, 253, 253, 253, 213,\n",
       "        142, 176, 253, 253, 122,   0,   0,   0,   0,   0,   0,   0,   0,\n",
       "          0,   0],\n",
       "       [  0,   0,   0,   0,   0,   0,   0,  52, 250, 253, 210,  32,  12,\n",
       "          0,   6, 206, 253, 140,   0,   0,   0,   0,   0,   0,   0,   0,\n",
       "          0,   0],\n",
       "       [  0,   0,   0,   0,   0,   0,   0,  77, 251, 210,  25,   0,   0,\n",
       "          0, 122, 248, 253,  65,   0,   0,   0,   0,   0,   0,   0,   0,\n",
       "          0,   0],\n",
       "       [  0,   0,   0,   0,   0,   0,   0,   0,  31,  18,   0,   0,   0,\n",
       "          0, 209, 253, 253,  65,   0,   0,   0,   0,   0,   0,   0,   0,\n",
       "          0,   0],\n",
       "       [  0,   0,   0,   0,   0,   0,   0,   0,   0,   0,   0,   0,   0,\n",
       "        117, 247, 253, 198,  10,   0,   0,   0,   0,   0,   0,   0,   0,\n",
       "          0,   0],\n",
       "       [  0,   0,   0,   0,   0,   0,   0,   0,   0,   0,   0,   0,  76,\n",
       "        247, 253, 231,  63,   0,   0,   0,   0,   0,   0,   0,   0,   0,\n",
       "          0,   0],\n",
       "       [  0,   0,   0,   0,   0,   0,   0,   0,   0,   0,   0,   0, 128,\n",
       "        253, 253, 144,   0,   0,   0,   0,   0,   0,   0,   0,   0,   0,\n",
       "          0,   0],\n",
       "       [  0,   0,   0,   0,   0,   0,   0,   0,   0,   0,   0, 176, 246,\n",
       "        253, 159,  12,   0,   0,   0,   0,   0,   0,   0,   0,   0,   0,\n",
       "          0,   0],\n",
       "       [  0,   0,   0,   0,   0,   0,   0,   0,   0,   0,  25, 234, 253,\n",
       "        233,  35,   0,   0,   0,   0,   0,   0,   0,   0,   0,   0,   0,\n",
       "          0,   0],\n",
       "       [  0,   0,   0,   0,   0,   0,   0,   0,   0,   0, 198, 253, 253,\n",
       "        141,   0,   0,   0,   0,   0,   0,   0,   0,   0,   0,   0,   0,\n",
       "          0,   0],\n",
       "       [  0,   0,   0,   0,   0,   0,   0,   0,   0,  78, 248, 253, 189,\n",
       "         12,   0,   0,   0,   0,   0,   0,   0,   0,   0,   0,   0,   0,\n",
       "          0,   0],\n",
       "       [  0,   0,   0,   0,   0,   0,   0,   0,  19, 200, 253, 253, 141,\n",
       "          0,   0,   0,   0,   0,   0,   0,   0,   0,   0,   0,   0,   0,\n",
       "          0,   0],\n",
       "       [  0,   0,   0,   0,   0,   0,   0,   0, 134, 253, 253, 173,  12,\n",
       "          0,   0,   0,   0,   0,   0,   0,   0,   0,   0,   0,   0,   0,\n",
       "          0,   0],\n",
       "       [  0,   0,   0,   0,   0,   0,   0,   0, 248, 253, 253,  25,   0,\n",
       "          0,   0,   0,   0,   0,   0,   0,   0,   0,   0,   0,   0,   0,\n",
       "          0,   0],\n",
       "       [  0,   0,   0,   0,   0,   0,   0,   0, 248, 253, 253,  43,  20,\n",
       "         20,  20,  20,   5,   0,   5,  20,  20,  37, 150, 150, 150, 147,\n",
       "         10,   0],\n",
       "       [  0,   0,   0,   0,   0,   0,   0,   0, 248, 253, 253, 253, 253,\n",
       "        253, 253, 253, 168, 143, 166, 253, 253, 253, 253, 253, 253, 253,\n",
       "        123,   0],\n",
       "       [  0,   0,   0,   0,   0,   0,   0,   0, 174, 253, 253, 253, 253,\n",
       "        253, 253, 253, 253, 253, 253, 253, 249, 247, 247, 169, 117, 117,\n",
       "         57,   0],\n",
       "       [  0,   0,   0,   0,   0,   0,   0,   0,   0, 118, 123, 123, 123,\n",
       "        166, 253, 253, 253, 155, 123, 123,  41,   0,   0,   0,   0,   0,\n",
       "          0,   0],\n",
       "       [  0,   0,   0,   0,   0,   0,   0,   0,   0,   0,   0,   0,   0,\n",
       "          0,   0,   0,   0,   0,   0,   0,   0,   0,   0,   0,   0,   0,\n",
       "          0,   0],\n",
       "       [  0,   0,   0,   0,   0,   0,   0,   0,   0,   0,   0,   0,   0,\n",
       "          0,   0,   0,   0,   0,   0,   0,   0,   0,   0,   0,   0,   0,\n",
       "          0,   0],\n",
       "       [  0,   0,   0,   0,   0,   0,   0,   0,   0,   0,   0,   0,   0,\n",
       "          0,   0,   0,   0,   0,   0,   0,   0,   0,   0,   0,   0,   0,\n",
       "          0,   0],\n",
       "       [  0,   0,   0,   0,   0,   0,   0,   0,   0,   0,   0,   0,   0,\n",
       "          0,   0,   0,   0,   0,   0,   0,   0,   0,   0,   0,   0,   0,\n",
       "          0,   0],\n",
       "       [  0,   0,   0,   0,   0,   0,   0,   0,   0,   0,   0,   0,   0,\n",
       "          0,   0,   0,   0,   0,   0,   0,   0,   0,   0,   0,   0,   0,\n",
       "          0,   0]], dtype=uint8)"
      ]
     },
     "execution_count": 229,
     "metadata": {},
     "output_type": "execute_result"
    }
   ],
   "source": [
    "X_test[1]"
   ]
  },
  {
   "cell_type": "code",
   "execution_count": 198,
   "metadata": {
    "collapsed": true
   },
   "outputs": [],
   "source": [
    "test8 = cv2.imread(\"test8.jpg\", cv2.cv2.IMREAD_GRAYSCALE)"
   ]
  },
  {
   "cell_type": "code",
   "execution_count": 200,
   "metadata": {
    "collapsed": true
   },
   "outputs": [],
   "source": [
    "test8 = cv2.resize(test4, (28, 28)) "
   ]
  },
  {
   "cell_type": "code",
   "execution_count": 221,
   "metadata": {},
   "outputs": [
    {
     "data": {
      "text/plain": [
       "True"
      ]
     },
     "execution_count": 221,
     "metadata": {},
     "output_type": "execute_result"
    }
   ],
   "source": [
    "cv2.imwrite(\"/Temp/testsetnum2.bmp\",X_test[1])"
   ]
  },
  {
   "cell_type": "code",
   "execution_count": 202,
   "metadata": {
    "collapsed": true
   },
   "outputs": [],
   "source": [
    "invert = np.vectorize(invert, otypes=[np.float])"
   ]
  },
  {
   "cell_type": "code",
   "execution_count": 203,
   "metadata": {
    "collapsed": true
   },
   "outputs": [],
   "source": [
    "test8 = invert(test8)"
   ]
  },
  {
   "cell_type": "code",
   "execution_count": 205,
   "metadata": {
    "collapsed": true
   },
   "outputs": [],
   "source": [
    "brighten = np.vectorize(brighten, otypes=[np.float])\n",
    "test8 = brighten(test8)"
   ]
  },
  {
   "cell_type": "code",
   "execution_count": 214,
   "metadata": {
    "collapsed": true
   },
   "outputs": [],
   "source": [
    "reshapedimg = test8.reshape(1, 784).astype('float32')\n"
   ]
  },
  {
   "cell_type": "code",
   "execution_count": 216,
   "metadata": {
    "collapsed": true
   },
   "outputs": [],
   "source": [
    "reshapedimg /= 255\n",
    "result = model.predict(reshapedimg)"
   ]
  },
  {
   "cell_type": "code",
   "execution_count": 217,
   "metadata": {},
   "outputs": [
    {
     "data": {
      "text/plain": [
       "array([[0.20979929, 0.00931124, 0.11923025, 0.10231639, 0.02885046,\n",
       "        0.221767  , 0.03390548, 0.04421921, 0.15973018, 0.07087056]],\n",
       "      dtype=float32)"
      ]
     },
     "execution_count": 217,
     "metadata": {},
     "output_type": "execute_result"
    }
   ],
   "source": [
    "result"
   ]
  },
  {
   "cell_type": "code",
   "execution_count": null,
   "metadata": {
    "collapsed": true
   },
   "outputs": [],
   "source": []
  }
 ],
 "metadata": {
  "kernelspec": {
   "display_name": "Python 3",
   "language": "python",
   "name": "python3"
  },
  "language_info": {
   "codemirror_mode": {
    "name": "ipython",
    "version": 3
   },
   "file_extension": ".py",
   "mimetype": "text/x-python",
   "name": "python",
   "nbconvert_exporter": "python",
   "pygments_lexer": "ipython3",
   "version": "3.5.5"
  }
 },
 "nbformat": 4,
 "nbformat_minor": 2
}
